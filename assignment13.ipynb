{
 "cells": [
  {
   "cell_type": "markdown",
   "metadata": {},
   "source": [
    "# 1 Python | convert a list of Tuples into Dictionary\n"
   ]
  },
  {
   "cell_type": "code",
   "execution_count": 2,
   "metadata": {},
   "outputs": [
    {
     "name": "stdout",
     "output_type": "stream",
     "text": [
      "{'key 1': 1, 'key 2': 2, 'key 3': 3, 'key 4': 4, 'key 5': 5}\n"
     ]
    }
   ],
   "source": [
    "# initializing the list\n",
    "tuples = [('key 1', 1), ('key 2', 2), ('key 3', 3), ('key 4', 4), ('key 5', 5)]\n",
    "\n",
    "# converting to dict\n",
    "result = dict(tuples)\n",
    "\n",
    "# printing the result\n",
    "print(result)"
   ]
  },
  {
   "cell_type": "markdown",
   "metadata": {},
   "source": [
    "# 2. Python – Extract digits from Tuple list"
   ]
  },
  {
   "cell_type": "code",
   "execution_count": 5,
   "metadata": {},
   "outputs": [
    {
     "name": "stdout",
     "output_type": "stream",
     "text": [
      "Original list : [(22, 13), (25, 19)]\n",
      "Digits Extracted: [3, 5, 1, 2, 9]\n"
     ]
    }
   ],
   "source": [
    "import re\n",
    "List = [(22, 13), (25,19)]\n",
    "# given list\n",
    "print(\"Original list :\",List)\n",
    "temp = re.sub(r'[\\[\\]\\(\\), ]', '', str(List))\n",
    "# using set\n",
    "result = [int(i) for i in set(temp)]\n",
    "# result\n",
    "print(\"Digits Extracted:\",result)"
   ]
  },
  {
   "cell_type": "markdown",
   "metadata": {},
   "source": [
    "# 3. Python – All pair combinations of 2 tuples"
   ]
  },
  {
   "cell_type": "code",
   "execution_count": 6,
   "metadata": {},
   "outputs": [
    {
     "name": "stdout",
     "output_type": "stream",
     "text": [
      "The tuple 1 : (2, 3)\n",
      "The tuple 2 :(4, 5)\n",
      "The resultant tuple :[(2, 4), (2, 5), (3, 4), (3, 5), (4, 2), (4, 3), (5, 2), (5, 3)]\n"
     ]
    }
   ],
   "source": [
    "from itertools import chain, product\n",
    "# tuples\n",
    "tuple1 = (2,3)\n",
    "tuple2 = (4,5)\n",
    "# original tuples\n",
    "print(\"The tuple 1 : \" + str(tuple1))\n",
    "print(\"The tuple 2 :\" + str (tuple2))\n",
    "# all pair combinations of 2 tuples\n",
    "result = list(chain(product(tuple1, tuple2), product(tuple2, tuple1)))\n",
    "# result\n",
    "print(\"The resultant tuple :\" + str(result))"
   ]
  },
  {
   "cell_type": "markdown",
   "metadata": {},
   "source": [
    "# 4. Python – Remove Tuples of Length K"
   ]
  },
  {
   "cell_type": "code",
   "execution_count": 20,
   "metadata": {},
   "outputs": [
    {
     "name": "stdout",
     "output_type": "stream",
     "text": [
      "Original list :<class 'list'>\n"
     ]
    },
    {
     "ename": "TypeError",
     "evalue": "'type' object is not iterable",
     "output_type": "error",
     "traceback": [
      "\u001b[1;31m---------------------------------------------------------------------------\u001b[0m",
      "\u001b[1;31mTypeError\u001b[0m                                 Traceback (most recent call last)",
      "\u001b[1;32mUntitled-1.ipynb Cell 8'\u001b[0m in \u001b[0;36m<cell line: 10>\u001b[1;34m()\u001b[0m\n\u001b[0;32m      <a href='vscode-notebook-cell:Untitled-1.ipynb?jupyter-notebook#ch0000012untitled?line=6'>7</a>\u001b[0m k \u001b[39m=\u001b[39m \u001b[39m1\u001b[39m\n\u001b[0;32m      <a href='vscode-notebook-cell:Untitled-1.ipynb?jupyter-notebook#ch0000012untitled?line=8'>9</a>\u001b[0m \u001b[39m# filter() filters non k length values and return result\u001b[39;00m\n\u001b[1;32m---> <a href='vscode-notebook-cell:Untitled-1.ipynb?jupyter-notebook#ch0000012untitled?line=9'>10</a>\u001b[0m result \u001b[39m=\u001b[39m \u001b[39mlist\u001b[39m(\u001b[39mfilter\u001b[39;49m(\u001b[39mlambda\u001b[39;49;00m a : \u001b[39mlen\u001b[39;49m(a) \u001b[39m!=\u001b[39;49mk, \u001b[39mlist\u001b[39;49m))\n\u001b[0;32m     <a href='vscode-notebook-cell:Untitled-1.ipynb?jupyter-notebook#ch0000012untitled?line=10'>11</a>\u001b[0m \u001b[39m# printing the result\u001b[39;00m\n\u001b[0;32m     <a href='vscode-notebook-cell:Untitled-1.ipynb?jupyter-notebook#ch0000012untitled?line=11'>12</a>\u001b[0m \u001b[39mprint\u001b[39m(\u001b[39m\"\u001b[39m\u001b[39mfiltered list :\u001b[39m\u001b[39m\"\u001b[39m \u001b[39m+\u001b[39m \u001b[39mstr\u001b[39m(result))\n",
      "\u001b[1;31mTypeError\u001b[0m: 'type' object is not iterable"
     ]
    }
   ],
   "source": [
    "#initializing list\n",
    "List = [(1, 2), (3,), (4, 5, 6), (7, ), (8, 9, 10, 11)]\n",
    "\n",
    "# printing original list\n",
    "print(\"Original list :\" + str(list))\n",
    "# initializing k\n",
    "k = 1\n",
    "\n",
    "# filter() filters non k length values and return result\n",
    "result = list(filter(lambda a : len(a) !=k, list))\n",
    "# printing the result\n",
    "print(\"filtered list :\" + str(result))"
   ]
  },
  {
   "cell_type": "markdown",
   "metadata": {},
   "source": [
    "# 5. Sort a list of tuples by second Item"
   ]
  },
  {
   "cell_type": "code",
   "execution_count": 11,
   "metadata": {},
   "outputs": [
    {
     "name": "stdout",
     "output_type": "stream",
     "text": [
      "Original Tuple List : [(200, 6), (100, 3), (400, 12), (300, 9)]\n",
      "Sorted Tuple List: [(100, 3), (200, 6), (300, 9), (400, 12)]\n"
     ]
    }
   ],
   "source": [
    "#tuple list\n",
    "tuple = [(200, 6), (100, 3), (400,12), (300, 9)]\n",
    "print(\"Original Tuple List :\",tuple)\n",
    "#function\n",
    "def Sort(tuple):\n",
    "    # Sorts in Ascending order\n",
    "    tuple.sort(key = lambda a: a[1])\n",
    "    return tuple\n",
    "# printing the sorted list of tuples\n",
    "print(\"Sorted Tuple List:\",Sort(tuple))"
   ]
  },
  {
   "cell_type": "markdown",
   "metadata": {},
   "source": [
    "# 6. Python program to Order Tuples using external List"
   ]
  },
  {
   "cell_type": "code",
   "execution_count": 12,
   "metadata": {},
   "outputs": [
    {
     "name": "stdout",
     "output_type": "stream",
     "text": [
      "The list of tuple is :\n",
      "[('Mark', 34), ('Will', 91), ('Rob', 23)]\n",
      "The ordered list is :\n",
      "['Will', 'Mark', 'Rob']\n",
      "The ordered tuple list is :\n",
      "[('Will', 91), ('Mark', 34), ('Rob', 23)]\n"
     ]
    }
   ],
   "source": [
    "my_list = [('Mark', 34), ('Will', 91), ('Rob', 23)]\n",
    "\n",
    "print(\"The list of tuple is :\")\n",
    "print(my_list)\n",
    "\n",
    "ordered_list = ['Will', 'Mark', 'Rob']\n",
    "print(\"The ordered list is :\")\n",
    "print(ordered_list)\n",
    "temp = dict(my_list)\n",
    "my_result = [(key, temp[key]) for key in ordered_list]\n",
    "print(\"The ordered tuple list is :\")\n",
    "print(my_result)"
   ]
  },
  {
   "cell_type": "markdown",
   "metadata": {},
   "source": [
    "# 7. Python – Flatten tuple of List to tuple"
   ]
  },
  {
   "cell_type": "code",
   "execution_count": 22,
   "metadata": {},
   "outputs": [
    {
     "name": "stdout",
     "output_type": "stream",
     "text": [
      "The original tuple of list is :- ([5, 6], [1, 2, 3, 4], [9])\n"
     ]
    },
    {
     "ename": "TypeError",
     "evalue": "'tuple' object is not callable",
     "output_type": "error",
     "traceback": [
      "\u001b[1;31m---------------------------------------------------------------------------\u001b[0m",
      "\u001b[1;31mTypeError\u001b[0m                                 Traceback (most recent call last)",
      "\u001b[1;32mUntitled-1.ipynb Cell 14'\u001b[0m in \u001b[0;36m<cell line: 4>\u001b[1;34m()\u001b[0m\n\u001b[0;32m      <a href='vscode-notebook-cell:Untitled-1.ipynb?jupyter-notebook#ch0000018untitled?line=0'>1</a>\u001b[0m \u001b[39mtuple\u001b[39m\u001b[39m=\u001b[39m([\u001b[39m5\u001b[39m,\u001b[39m6\u001b[39m],[\u001b[39m1\u001b[39m,\u001b[39m2\u001b[39m,\u001b[39m3\u001b[39m,\u001b[39m4\u001b[39m],[\u001b[39m9\u001b[39m])\n\u001b[0;32m      <a href='vscode-notebook-cell:Untitled-1.ipynb?jupyter-notebook#ch0000018untitled?line=1'>2</a>\u001b[0m \u001b[39mprint\u001b[39m(\u001b[39m\"\u001b[39m\u001b[39mThe original tuple of list is :-\u001b[39m\u001b[39m\"\u001b[39m,\u001b[39mtuple\u001b[39m)\n\u001b[1;32m----> <a href='vscode-notebook-cell:Untitled-1.ipynb?jupyter-notebook#ch0000018untitled?line=3'>4</a>\u001b[0m res \u001b[39m=\u001b[39m \u001b[39mtuple\u001b[39;49m(\u001b[39msum\u001b[39;49m(\u001b[39mtuple\u001b[39;49m, []))\n\u001b[0;32m      <a href='vscode-notebook-cell:Untitled-1.ipynb?jupyter-notebook#ch0000018untitled?line=4'>5</a>\u001b[0m \u001b[39mprint\u001b[39m(\u001b[39m\"\u001b[39m\u001b[39mThe flattened tuple is :-\u001b[39m\u001b[39m\"\u001b[39m,res)\n",
      "\u001b[1;31mTypeError\u001b[0m: 'tuple' object is not callable"
     ]
    }
   ],
   "source": [
    "tuple=([5,6],[1,2,3,4],[9])\n",
    "print(\"The original tuple of list is :-\",tuple)\n",
    "\n",
    "res = tuple(sum(tuple, []))\n",
    "print(\"The flattened tuple is :-\",res)"
   ]
  },
  {
   "cell_type": "markdown",
   "metadata": {},
   "source": [
    "# 8. Python – Convert Nested Tuple to Custom Key Dictionary"
   ]
  },
  {
   "cell_type": "code",
   "execution_count": 15,
   "metadata": {},
   "outputs": [
    {
     "name": "stdout",
     "output_type": "stream",
     "text": [
      "The tuple is : \n",
      "((6, 'Will', 13), (2, 'Mark', 15), (9, 'Rob', 12))\n",
      "The converted dictionary is :\n",
      "[{'key': 6, 'value': 'Will', 'id': 13}, {'key': 2, 'value': 'Mark', 'id': 15}, {'key': 9, 'value': 'Rob', 'id': 12}]\n"
     ]
    }
   ],
   "source": [
    "my_tuple = ((6, 'Will', 13), (2, 'Mark', 15), (9, 'Rob', 12))\n",
    "\n",
    "print(\"The tuple is : \")\n",
    "print(my_tuple)\n",
    "\n",
    "my_result = [{'key': sub[0], 'value': sub[1], 'id': sub[2]}\n",
    "    for sub in my_tuple]\n",
    "print(\"The converted dictionary is :\")\n",
    "print(my_result)         "
   ]
  },
  {
   "cell_type": "markdown",
   "metadata": {},
   "source": [
    "# 9. Python Program for Binary Search (Recursive and Iterative)"
   ]
  },
  {
   "cell_type": "code",
   "execution_count": 16,
   "metadata": {},
   "outputs": [
    {
     "name": "stdout",
     "output_type": "stream",
     "text": [
      "The list is\n",
      "[1, 9, 11, 21, 34, 54, 67, 90]\n",
      "Element found at index 0\n"
     ]
    }
   ],
   "source": [
    "def binary_search(my_list, low, high, elem):\n",
    "    if high >= low:\n",
    "        mid = (high + low) // 2\n",
    "        if my_list[mid] == elem:\n",
    "            return mid\n",
    "        elif my_list[mid] > elem:\n",
    "            return binary_search(my_list, low, mid - 1, elem)\n",
    "        else:\n",
    "            return binary_search(my_list, mid + 1, high, elem)\n",
    "    else:\n",
    "       return -1\n",
    "my_list = [1, 9, 11, 21, 34, 54, 67, 90]\n",
    "elem_to_search = 1\n",
    "print(\"The list is\") \n",
    "print(my_list)\n",
    "\n",
    "my_result = binary_search(my_list,0,len(my_list)-1,elem_to_search)\n",
    "\n",
    "if my_result != -1:\n",
    "    print(\"Element found at index\", str(my_result))\n",
    "else:\n",
    "    print(\"Element not found!\")"
   ]
  },
  {
   "cell_type": "markdown",
   "metadata": {},
   "source": [
    "# 10. Python Program for Linear Search"
   ]
  },
  {
   "cell_type": "code",
   "execution_count": 17,
   "metadata": {},
   "outputs": [
    {
     "name": "stdout",
     "output_type": "stream",
     "text": [
      "element found at index6\n"
     ]
    }
   ],
   "source": [
    "def linearsearch(arr, x):\n",
    "    for i in range(len(arr)):\n",
    "        if arr[i] == x:\n",
    "            return i\n",
    "    return -1\n",
    "arr = ['t','u','t','o','r','i','a','l']\n",
    "\n",
    "x = 'a'\n",
    "print(\"element found at index\"+str(linearsearch(arr,x)))"
   ]
  },
  {
   "cell_type": "markdown",
   "metadata": {},
   "source": [
    "# 11. Python Program for Insertion Sort"
   ]
  },
  {
   "cell_type": "code",
   "execution_count": 18,
   "metadata": {},
   "outputs": [
    {
     "name": "stdout",
     "output_type": "stream",
     "text": [
      "The sorted array is:\n",
      "a\n",
      "i\n",
      "l\n",
      "o\n",
      "r\n",
      "t\n",
      "t\n",
      "u\n"
     ]
    }
   ],
   "source": [
    "def insertionSort(arr):\n",
    "    for i in range(1, len(arr)):\n",
    "        key = arr[i]\n",
    "        # Move elements of arr[0..i-1], that are greater than key,\n",
    "        # to one position ahead of their current position\n",
    "        j = i-1\n",
    "        while j >=0 and key < arr[j] :\n",
    "            arr[j+1] = arr[j]\n",
    "            j -= 1\n",
    "        arr[j+1] = key\n",
    "# main\n",
    "arr = ['t', 'u', 't','o','r', 'i', 'a', 'l']\n",
    "insertionSort(arr)\n",
    "print(\"The sorted array is:\")\n",
    "for i in range(len(arr)):\n",
    "    print (arr[i])\n",
    "        "
   ]
  },
  {
   "cell_type": "markdown",
   "metadata": {},
   "source": []
  }
 ],
 "metadata": {
  "kernelspec": {
   "display_name": "Python 3.9.12 ('base')",
   "language": "python",
   "name": "python3"
  },
  "language_info": {
   "codemirror_mode": {
    "name": "ipython",
    "version": 3
   },
   "file_extension": ".py",
   "mimetype": "text/x-python",
   "name": "python",
   "nbconvert_exporter": "python",
   "pygments_lexer": "ipython3",
   "version": "3.9.12"
  },
  "orig_nbformat": 4,
  "vscode": {
   "interpreter": {
    "hash": "610a6f344c2137faf927ea819c63f6cee33a2c04455044b28099f39fe9722347"
   }
  }
 },
 "nbformat": 4,
 "nbformat_minor": 2
}
