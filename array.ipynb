{
 "cells": [
  {
   "cell_type": "markdown",
   "metadata": {},
   "source": [
    "# 1 Python program for fibonacci number"
   ]
  },
  {
   "cell_type": "code",
   "execution_count": 6,
   "metadata": {},
   "outputs": [],
   "source": [
    "def fib(n):\n",
    "    if n<=1:\n",
    "        return n\n",
    "    else:\n",
    "        return fib(n-1)+fib(n-2)\n",
    "    n=int(input(\"enter a number:\"))\n",
    "    print(\"nth fibonacci number is\",fib(n))"
   ]
  },
  {
   "cell_type": "markdown",
   "metadata": {},
   "source": [
    "# 2 Python program to check if a given number is fibonacci number?"
   ]
  },
  {
   "cell_type": "code",
   "execution_count": 5,
   "metadata": {},
   "outputs": [
    {
     "name": "stdout",
     "output_type": "stream",
     "text": [
      "given number is fibonacci number.\n"
     ]
    }
   ],
   "source": [
    "n=int(input(\"enter a number:\"))\n",
    "c=0\n",
    "a=1\n",
    "b=1\n",
    "if n==0 or n==1:\n",
    "    print(\"given number is fibonacci number.\")\n",
    "else:\n",
    "    while c<n:\n",
    "        c=a+b\n",
    "        a=b\n",
    "        b=c\n",
    "    if c<=n:\n",
    "        print(\"given number is fibonacci number.\")\n",
    "    else:\n",
    "        print(\"given numberis not fibonacci number.\")\n",
    "        \n",
    "        "
   ]
  },
  {
   "cell_type": "markdown",
   "metadata": {},
   "source": [
    "# 3 To find nth multiple of a number in fibonacci series"
   ]
  },
  {
   "cell_type": "code",
   "execution_count": 34,
   "metadata": {},
   "outputs": [],
   "source": [
    "#find function\n",
    "def find(k, n):\n",
    "  f1 =0\n",
    "  f2 =1\n",
    "  i=2;\n",
    " #fibonacci recursion\n",
    "  while i!=0:\n",
    "     f3 =f1 + f2 \n",
    "     f1 = f2,\n",
    "     f2 = f3,\n",
    "     if f2%k == 0:\n",
    "        return n*i\n",
    "     i+=1\n",
    "  return\n",
    "#multiple number\n",
    "  n = 5;\n",
    "#number of whose multiple we are finding\n",
    "  k = 4;\n",
    "  print(\"Position of n\\'th multiple of k in\"\"fibonacci series is:\", find(k,n));\n",
    "    "
   ]
  },
  {
   "cell_type": "markdown",
   "metadata": {},
   "source": [
    "# 4 Program to print ascii value of a character"
   ]
  },
  {
   "cell_type": "code",
   "execution_count": 6,
   "metadata": {},
   "outputs": [
    {
     "name": "stdout",
     "output_type": "stream",
     "text": [
      "The ASCII value of a given character is 53\n"
     ]
    }
   ],
   "source": [
    "c=input(\"Enter the number whose ASCII code is to be found:\")\n",
    "\n",
    "print(\"The ASCII value of a given character is\",ord(c))"
   ]
  },
  {
   "cell_type": "markdown",
   "metadata": {},
   "source": [
    "# 5 Program for sum of squares of first n natural numbers"
   ]
  },
  {
   "cell_type": "code",
   "execution_count": 1,
   "metadata": {},
   "outputs": [
    {
     "name": "stdout",
     "output_type": "stream",
     "text": [
      "sum is 1\n",
      "sum is 5\n",
      "sum is 14\n",
      "sum is 30\n",
      "sum is 55\n"
     ]
    }
   ],
   "source": [
    "\n",
    "n=int(input(\"enter the number:\"))\n",
    "sum=0\n",
    "for i in range(1,n+1):\n",
    "    sum+=(i*i)\n",
    "    print(\"sum is\",sum)"
   ]
  },
  {
   "cell_type": "markdown",
   "metadata": {},
   "source": [
    "# 6 Program to cube sum of first n natural numbers"
   ]
  },
  {
   "cell_type": "code",
   "execution_count": 2,
   "metadata": {},
   "outputs": [
    {
     "name": "stdout",
     "output_type": "stream",
     "text": [
      "sum is 1\n",
      "sum is 9\n",
      "sum is 36\n",
      "sum is 100\n"
     ]
    }
   ],
   "source": [
    "n=int(input(\"enter the number:\"))\n",
    "sum=0\n",
    "for i in range(1,n+1):\n",
    "    sum+=(i*i*i)\n",
    "    print(\"sum is\",sum)"
   ]
  },
  {
   "cell_type": "markdown",
   "metadata": {},
   "source": [
    "# 7 Program to find sum of array"
   ]
  },
  {
   "cell_type": "code",
   "execution_count": 27,
   "metadata": {},
   "outputs": [
    {
     "name": "stdout",
     "output_type": "stream",
     "text": [
      "sum of the array is 56\n"
     ]
    }
   ],
   "source": [
    "import array as arr\n",
    "\n",
    "def sumofArray(arr):\n",
    "    sum=0\n",
    "    n=len(arr)\n",
    "    for i in range(n):\n",
    "        sum=sum + arr[i]\n",
    "    return sum\n",
    "#input values to list\n",
    "a=arr.array('i',[10, 21, 12, 13])\n",
    "#display sum\n",
    "print('sum of the array is',sumofArray(a))"
   ]
  },
  {
   "cell_type": "markdown",
   "metadata": {},
   "source": [
    "# 8 Python program to find largest element in an array"
   ]
  },
  {
   "cell_type": "code",
   "execution_count": 10,
   "metadata": {},
   "outputs": [
    {
     "name": "stdout",
     "output_type": "stream",
     "text": [
      "89\n"
     ]
    }
   ],
   "source": [
    "a=[10,89,9,56,4,80,8]\n",
    "max_element=a[0]\n",
    "for i in range(len(a)):\n",
    "    if a[i]>max_element:\n",
    "        max_element=a[i]\n",
    "        print(max_element)"
   ]
  },
  {
   "cell_type": "markdown",
   "metadata": {},
   "source": [
    "# 9 Python program for array rotation"
   ]
  },
  {
   "cell_type": "code",
   "execution_count": 13,
   "metadata": {},
   "outputs": [
    {
     "name": "stdout",
     "output_type": "stream",
     "text": [
      "Array after left rotation is:[3, 4, 5, 6, 7, 1, 2]\n"
     ]
    }
   ],
   "source": [
    "def rotatearray(a,d):\n",
    "    temp=[]\n",
    "    n=len(a)\n",
    "    for i in range(d,n):\n",
    "        temp.append(a[i])\n",
    "    i=0\n",
    "    for i in range(0,d):\n",
    "        temp.append(a[i])\n",
    "    a=temp.copy()\n",
    "    return a\n",
    "arr=[1,2,3,4,5,6,7]\n",
    "print(\"Array after left rotation is:\",end='')\n",
    "print(rotatearray(arr,2))"
   ]
  },
  {
   "cell_type": "markdown",
   "metadata": {},
   "source": [
    "# 10 Python program for reversal algorithm for array rotation"
   ]
  },
  {
   "cell_type": "code",
   "execution_count": 18,
   "metadata": {},
   "outputs": [
    {
     "name": "stdout",
     "output_type": "stream",
     "text": [
      "1020132453617\n",
      "shifted array:\n",
      "1324536171020"
     ]
    }
   ],
   "source": [
    "def reverseArray(arr,start,end):\n",
    "    while(start<end):\n",
    "        temp=arr[start]\n",
    "        arr[start]=arr[end]\n",
    "        arr[end]=temp\n",
    "        start=start+1\n",
    "        end=end-1\n",
    "\n",
    "def Rotate(a,d):\n",
    "        if d==0:\n",
    "            return\n",
    "        n=len(a)\n",
    "        d=d%n\n",
    "        reverseArray(a,0,d-1)\n",
    "        reverseArray(a,d,n-1)\n",
    "        reverseArray(a,0,n-1)\n",
    "\n",
    "def printArray(arr):\n",
    "        for i in range(0,len(arr)):\n",
    "            print(arr[i],end='')\n",
    "a=[10, 20, 13, 24, 53, 6, 17]\n",
    "n=len(a)\n",
    "d=2\n",
    "printArray(a)\n",
    "Rotate(a,d)\n",
    "print(\"\\nshifted array:\")\n",
    "printArray(a)\n",
    "        "
   ]
  },
  {
   "cell_type": "markdown",
   "metadata": {},
   "source": [
    "# 11 Python program to split the array and add the first part to the end"
   ]
  },
  {
   "cell_type": "code",
   "execution_count": 28,
   "metadata": {},
   "outputs": [
    {
     "name": "stdout",
     "output_type": "stream",
     "text": [
      "151650361540"
     ]
    }
   ],
   "source": [
    "def SplitArray(arr, n, k):\n",
    "    for i in range(0, k):\n",
    "        x=arr[0]\n",
    "        for j in range(0, n-1):\n",
    "             arr[j]=arr[j+1]\n",
    "       \n",
    "        arr[n-1]=x\n",
    "arr=[15, 40, 15, 16, 50, 36]\n",
    "n=len(arr)\n",
    "position=2\n",
    "SplitArray(arr, n, position)\n",
    "for i in range(0, n):\n",
    "    print(arr[i], end='')\n",
    "    "
   ]
  }
 ],
 "metadata": {
  "kernelspec": {
   "display_name": "Python 3.10.5 64-bit",
   "language": "python",
   "name": "python3"
  },
  "language_info": {
   "codemirror_mode": {
    "name": "ipython",
    "version": 3
   },
   "file_extension": ".py",
   "mimetype": "text/x-python",
   "name": "python",
   "nbconvert_exporter": "python",
   "pygments_lexer": "ipython3",
   "version": "3.10.5"
  },
  "orig_nbformat": 4,
  "vscode": {
   "interpreter": {
    "hash": "beedbe2faf2f7048d727558d0bc3221e7eba2a0b921cac4d4771b2feb8f74b30"
   }
  }
 },
 "nbformat": 4,
 "nbformat_minor": 2
}
