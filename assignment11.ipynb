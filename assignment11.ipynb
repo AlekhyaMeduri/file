{
 "cells": [
  {
   "cell_type": "markdown",
   "metadata": {},
   "source": [
    "# 1 Python-sort dictionary key and values list"
   ]
  },
  {
   "cell_type": "code",
   "execution_count": 1,
   "metadata": {},
   "outputs": [
    {
     "name": "stdout",
     "output_type": "stream",
     "text": [
      "The original dictionary is : {'a': [11, 2], 'b': [3, 2, 1], 'c': [7, 4]}\n",
      "The sorted dictionary : {'a': [2, 11], 'b': [1, 2, 3], 'c': [4, 7]}\n"
     ]
    }
   ],
   "source": [
    "dic= {'a': [11, 2],\n",
    "            'b': [3, 2, 1],\n",
    "             'c': [7, 4]}\n",
    "#print original dictionary\n",
    "print(\"The original dictionary is :\",dic)\n",
    "\n",
    "#sort dictionary key and value list\n",
    "#dictionary comprehension\n",
    "sort_dict= {key: sorted(dic[key]) for key in sorted (dic)}\n",
    "\n",
    "#printing result\n",
    "print(\"The sorted dictionary :\" , sort_dict)"
   ]
  },
  {
   "cell_type": "markdown",
   "metadata": {},
   "source": [
    "# 2 Handling missing keys in python dictionaries"
   ]
  },
  {
   "cell_type": "code",
   "execution_count": 2,
   "metadata": {},
   "outputs": [
    {
     "name": "stdout",
     "output_type": "stream",
     "text": [
      "AU\n",
      "Not Found\n"
     ]
    }
   ],
   "source": [
    "country_dict = {'India' : 'IN', 'Australia' : 'AU', 'Brazil' : 'BR'}\n",
    "print(country_dict.get('Australia', 'Not Found'))\n",
    "print(country_dict.get('Canada', 'Not Found'))"
   ]
  },
  {
   "cell_type": "markdown",
   "metadata": {},
   "source": [
    "# 3 Python dictionary with keys having multiple inputs"
   ]
  },
  {
   "cell_type": "code",
   "execution_count": 3,
   "metadata": {},
   "outputs": [
    {
     "name": "stdout",
     "output_type": "stream",
     "text": [
      "{'x-y+z': [6, 12]}\n"
     ]
    }
   ],
   "source": [
    "# creating an empty dictionary\n",
    "dic = {}\n",
    "# inserting first inputs in dictionary\n",
    "a,b,c=4, 7, 9\n",
    "# insert second inputs in dictionary\n",
    "p,q,r=15, 7, 4\n",
    "dic[\"x-y+z\"] = [a-b+c,p-q+r]\n",
    "# print the dictionary\n",
    "print(dic)"
   ]
  },
  {
   "cell_type": "markdown",
   "metadata": {},
   "source": [
    "# 4 Print anagrams together in python using list and dictionary"
   ]
  },
  {
   "cell_type": "code",
   "execution_count": 4,
   "metadata": {},
   "outputs": [
    {
     "name": "stdout",
     "output_type": "stream",
     "text": [
      "Words:  ['act', 'cat', 'silent', 'listen']\n",
      "Anagram:  actcatsilentlisten\n"
     ]
    }
   ],
   "source": [
    "def Anagram(d1):\n",
    "    \n",
    "    # empty dictionary for anagrams together\n",
    "    dict = {}\n",
    "    \n",
    "    # traversal\n",
    "    for val in d1:\n",
    "        \n",
    "        # sorts list\n",
    "        key = ''.join(sorted(val))\n",
    "        \n",
    "        if key in dict.keys():\n",
    "            dict[key].append(val)\n",
    "        else:\n",
    "            dict[key] = []\n",
    "            dict[key].append(val)\n",
    "    \n",
    "    # traverse dictionary and join keys together\n",
    "    result = \"\"\n",
    "    for key,value in dict.items():\n",
    "        result = result + ''.join(value) + ''\n",
    "    return result\n",
    "d1=['act', 'cat', 'silent', 'listen']\n",
    "print(\"Words: \",d1)\n",
    "print(\"Anagram: \",Anagram(d1))\n",
    "    "
   ]
  },
  {
   "cell_type": "markdown",
   "metadata": {},
   "source": [
    "# 5 k'th Non-repeating Character in python using List Comprehension and OrderedDict"
   ]
  },
  {
   "cell_type": "code",
   "execution_count": 26,
   "metadata": {},
   "outputs": [
    {
     "name": "stdout",
     "output_type": "stream",
     "text": [
      "r\n"
     ]
    }
   ],
   "source": [
    "from collections import OrderedDict\n",
    "import itertools\n",
    "def KthRepeating(inp,k):\n",
    "    # returns a dictionary data\n",
    "    dict=OrderedDict.fromkeys(inp,0)\n",
    "     # frequency of each character\n",
    "    for ch in inp:\n",
    "        dict[ch]+=1\n",
    "    # now extract list of all keys whose value is 1\n",
    "    nonRepeatDict = [key for (key,value) in dict.items() if value==1]\n",
    "    # returns (k-1)th character\n",
    "    if len(nonRepeatDict) < k:\n",
    "        return 'no output.'\n",
    "    else:\n",
    "        return nonRepeatDict[k-1]\n",
    "# Driver Function\n",
    "inp = \"Ineuron\"\n",
    "k=4\n",
    "print(KthRepeating(inp, k))"
   ]
  },
  {
   "cell_type": "markdown",
   "metadata": {},
   "source": [
    "# 6 Check if binary representations of two numbers are anagram"
   ]
  },
  {
   "cell_type": "code",
   "execution_count": 9,
   "metadata": {},
   "outputs": [
    {
     "name": "stdout",
     "output_type": "stream",
     "text": [
      "Yes\n"
     ]
    }
   ],
   "source": [
    "from collections import Counter\n",
    "\n",
    "def checkAnagram(n1,n2):\n",
    "    \n",
    "    # convert numbers into binary\n",
    "    bin1 = bin(n1)[2:]\n",
    "    bin2 = bin(n2)[2:]\n",
    "    \n",
    "    # append zeros in shorter string\n",
    "    zeros = abs(len(bin1)-len(bin2))\n",
    "    if (len(bin1)>len(bin2)):\n",
    "        bin2 = zeros * '0' + bin2\n",
    "    else:\n",
    "        bin1 = zeros * '0' + bin1\n",
    "    # convert binary to dictionary\n",
    "    dict1 = Counter(bin1)\n",
    "    dict2 = Counter(bin2)\n",
    "    \n",
    "    # compare both dictionaries\n",
    "    if dict1 == dict2:\n",
    "        print('Yes')\n",
    "    else:\n",
    "        print('No')\n",
    "n1 = 12\n",
    "n2 = 5\n",
    "checkAnagram(n1,n2)"
   ]
  },
  {
   "cell_type": "markdown",
   "metadata": {},
   "source": [
    "# 7 Python Counter to find the size of largest subset of anagram words"
   ]
  },
  {
   "cell_type": "code",
   "execution_count": 24,
   "metadata": {},
   "outputs": [
    {
     "name": "stdout",
     "output_type": "stream",
     "text": [
      "The Size of largest subset of Anagram word is ::> 4\n"
     ]
    }
   ],
   "source": [
    "# Function to find the size of largest subset\n",
    "# of anagram words from collections import counter\n",
    "from socket import if_nameindex\n",
    "\n",
    "\n",
    "def largestana(str1):\n",
    "    # split input string separated by space\n",
    "    str1 = str1.split(\" \")\n",
    "    # sort each string in given list of strings\n",
    "    for i in range(0,len(str1)):\n",
    "        str1[i]=''.join(sorted(str1[i]))\n",
    "    # now create a dictionary using the counter method\n",
    "    # which will have strings as key and their \n",
    "    #frequencies as the value\n",
    "    newstr1 = Counter(str1)\n",
    "    # get maximum value of frequency\n",
    "    print(\"The Size of largest subset of Anagram word is ::>\",max(newstr1.values()))\n",
    "  # Driver program\n",
    "str1 = input(\"Enter the string ::>\")\n",
    "largestana(str1)\n",
    "    "
   ]
  },
  {
   "cell_type": "markdown",
   "metadata": {},
   "source": [
    "# 8. Python | Remove all duplicates words from a given sentence"
   ]
  },
  {
   "cell_type": "code",
   "execution_count": 14,
   "metadata": {},
   "outputs": [
    {
     "name": "stdout",
     "output_type": "stream",
     "text": [
      "Therearetwochildreneatingtheicecream\n"
     ]
    }
   ],
   "source": [
    "from collections import Counter\n",
    "def remove_duplicate(s):\n",
    "    \n",
    "    s=s.split(\" \")\n",
    "    word_dic = Counter(s)\n",
    "    result = \"\".join(word_dic.keys())\n",
    "    print (result)\n",
    "    \n",
    "st = 'There are two children eating the icecream'\n",
    "remove_duplicate(st)"
   ]
  },
  {
   "cell_type": "markdown",
   "metadata": {},
   "source": [
    "# 9 Python Dictionary to find mirror characters in a string"
   ]
  },
  {
   "cell_type": "code",
   "execution_count": 20,
   "metadata": {},
   "outputs": [
    {
     "name": "stdout",
     "output_type": "stream",
     "text": [
      "pytslm\n",
      "Mirrored value: None\n"
     ]
    }
   ],
   "source": [
    "def MirrorChar(string,k):\n",
    "    \n",
    "     # create dictionary\n",
    "     order = 'abcdefghijklmnopqrstuvwxyz'\n",
    "     reverse = 'zyxwvutsrqponmlkjihgfedcba'\n",
    "     dictChars = dict(zip(order,reverse))\n",
    "    \n",
    "     # divide string at k\n",
    "     pre = string[0:k-1]\n",
    "     suffix = string[k-1:]\n",
    "     mirror = ''\n",
    "    \n",
    "    # change suffix into mirror char\n",
    "     for i in range( len(suffix)):\n",
    "        mirror = mirror + dictChars[suffix[i]]\n",
    "        \n",
    "    # join prefix and mirrored part\n",
    "     print (pre+mirror)\n",
    "st = 'python'\n",
    "k = 4\n",
    "print(\"Mirrored value:\",MirrorChar(st,k))\n",
    "        "
   ]
  },
  {
   "cell_type": "markdown",
   "metadata": {},
   "source": [
    " # 10. Counting the frequencies in a list using dictionary in Python"
   ]
  },
  {
   "cell_type": "code",
   "execution_count": 18,
   "metadata": {},
   "outputs": [
    {
     "name": "stdout",
     "output_type": "stream",
     "text": [
      "a ->  1\n",
      "b ->  1\n",
      "c ->  3\n",
      "d ->  1\n"
     ]
    }
   ],
   "source": [
    "list = ['a', 'b', 'c', 'd', 'c', 'c']\n",
    "frequency = {}\n",
    "for item in list:\n",
    "    if (item in frequency):\n",
    "        frequency[item] += 1\n",
    "    else:\n",
    "        frequency[item] = 1\n",
    "for key, value in frequency.items():\n",
    "    print(\"% s -> % d\" %(key, value))"
   ]
  }
 ],
 "metadata": {
  "kernelspec": {
   "display_name": "Python 3.9.12 ('base')",
   "language": "python",
   "name": "python3"
  },
  "language_info": {
   "codemirror_mode": {
    "name": "ipython",
    "version": 3
   },
   "file_extension": ".py",
   "mimetype": "text/x-python",
   "name": "python",
   "nbconvert_exporter": "python",
   "pygments_lexer": "ipython3",
   "version": "3.9.12"
  },
  "orig_nbformat": 4,
  "vscode": {
   "interpreter": {
    "hash": "610a6f344c2137faf927ea819c63f6cee33a2c04455044b28099f39fe9722347"
   }
  }
 },
 "nbformat": 4,
 "nbformat_minor": 2
}
