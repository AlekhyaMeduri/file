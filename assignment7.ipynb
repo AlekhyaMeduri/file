{
 "cells": [
  {
   "cell_type": "markdown",
   "metadata": {},
   "source": [
    "# 1 Python program to reverse words in a given string"
   ]
  },
  {
   "cell_type": "code",
   "execution_count": 22,
   "metadata": {},
   "outputs": [
    {
     "name": "stdout",
     "output_type": "stream",
     "text": [
      "websiteeducationalisineuron\n"
     ]
    }
   ],
   "source": [
    "## intializing the sting\n",
    "string = \"ineuron is educational website\"\n",
    "## splitting the string on space\n",
    "words = string.split()\n",
    "# reversing the words using reversed( ) function\n",
    "words = list(reversed(words))\n",
    "## joining the words and printing\n",
    "print(\"\".join(words))\n",
    "    "
   ]
  },
  {
   "cell_type": "markdown",
   "metadata": {},
   "source": [
    "# 2 ways to remove ith character from string in python"
   ]
  },
  {
   "cell_type": "code",
   "execution_count": 6,
   "metadata": {},
   "outputs": [
    {
     "name": "stdout",
     "output_type": "stream",
     "text": [
      "Pythnisgood\n"
     ]
    }
   ],
   "source": [
    "def remove_char(s, i):\n",
    "    a= s[ : i]\n",
    "    b= s[i + 1: ]\n",
    "    \n",
    "    return a+b\n",
    "\n",
    "string = \"Pythonisgood\"\n",
    "# Remove ith index element\n",
    "i = 5\n",
    "print(remove_char(string,i-1))"
   ]
  },
  {
   "cell_type": "markdown",
   "metadata": {},
   "source": [
    "# 3 check if a substring is a present in a given string in python"
   ]
  },
  {
   "cell_type": "code",
   "execution_count": 7,
   "metadata": {},
   "outputs": [
    {
     "name": "stdout",
     "output_type": "stream",
     "text": [
      "Does study exist in StudyIneuron ?\n",
      "false\n"
     ]
    }
   ],
   "source": [
    "string=\"StudyIneuron\"\n",
    "substring=\"study\"\n",
    "\n",
    "print(\"Does\",substring,\"exist in\",string,\"?\")\n",
    "if substring in string:\n",
    "    print(\"yes\")\n",
    "else:\n",
    "    print(\"false\")\n"
   ]
  },
  {
   "cell_type": "markdown",
   "metadata": {},
   "source": [
    "# 4 Python.words frequency in string shorthands"
   ]
  },
  {
   "cell_type": "code",
   "execution_count": 8,
   "metadata": {},
   "outputs": [
    {
     "name": "stdout",
     "output_type": "stream",
     "text": [
      " This tutorial for python tutorial\n",
      "Words in the string\n",
      "{'This': 1, 'tutorial': 2, 'for': 1, 'python': 1}\n"
     ]
    }
   ],
   "source": [
    "string=\" This tutorial for python tutorial\"\n",
    "print(string)\n",
    "\n",
    "#dictionary and count() and split()\n",
    "word={key: string.count(key) for key in string.split()}\n",
    "\n",
    "#print result\n",
    "print(\"Words in the string\")\n",
    "print(word)"
   ]
  },
  {
   "cell_type": "markdown",
   "metadata": {},
   "source": [
    "# 5 python convert snake case to pascal case"
   ]
  },
  {
   "cell_type": "code",
   "execution_count": 9,
   "metadata": {},
   "outputs": [
    {
     "name": "stdout",
     "output_type": "stream",
     "text": [
      "snake case: program_tutorial\n",
      "pascal case: Programtutorial\n"
     ]
    }
   ],
   "source": [
    "string=\"program_tutorial\"\n",
    "print(\"snake case:\",string)\n",
    "pascal=string.replace('_','').title()\n",
    "pascal=pascal.replace('','')\n",
    "print(\"pascal case:\",pascal)"
   ]
  },
  {
   "cell_type": "markdown",
   "metadata": {},
   "source": [
    "# 6 Find the length of a string in python(4ways)"
   ]
  },
  {
   "cell_type": "code",
   "execution_count": 13,
   "metadata": {},
   "outputs": [
    {
     "name": "stdout",
     "output_type": "stream",
     "text": [
      "7\n"
     ]
    }
   ],
   "source": [
    "\n",
    "#built-in len()\n",
    "\n",
    "str='ineuron'\n",
    "print(len(str))"
   ]
  },
  {
   "cell_type": "code",
   "execution_count": 14,
   "metadata": {},
   "outputs": [
    {
     "name": "stdout",
     "output_type": "stream",
     "text": [
      "7\n"
     ]
    }
   ],
   "source": [
    "# length of string using for loop\n",
    "\n",
    "def stringLength(str):\n",
    "    count=0\n",
    "    for i in str:\n",
    "        count+=1\n",
    "    return count\n",
    "str='Ineuron'\n",
    "print(stringLength(str))"
   ]
  },
  {
   "cell_type": "code",
   "execution_count": 15,
   "metadata": {},
   "outputs": [
    {
     "name": "stdout",
     "output_type": "stream",
     "text": [
      "7\n"
     ]
    }
   ],
   "source": [
    "# length of string using while loop\n",
    "\n",
    "def stringLength(str):\n",
    "    count=0\n",
    "    while str[count:]:\n",
    "        count += 1\n",
    "    return count\n",
    "str =\"Ineuron\"\n",
    "print(stringLength(str))"
   ]
  },
  {
   "cell_type": "code",
   "execution_count": 16,
   "metadata": {},
   "outputs": [
    {
     "name": "stdout",
     "output_type": "stream",
     "text": [
      "10\n"
     ]
    }
   ],
   "source": [
    "# string length using join\n",
    "\n",
    "def stringLength(str):\n",
    "    if not str:\n",
    "        return 0\n",
    "    else:\n",
    "        some_random_str='words'\n",
    "        return ((some_random_str).join(str)).count(some_random_str) + 1\n",
    "str = \"Ine u r on\" \n",
    "print(stringLength(str))  "
   ]
  },
  {
   "cell_type": "markdown",
   "metadata": {},
   "source": [
    "# 7 To print even length of words in a string"
   ]
  },
  {
   "cell_type": "code",
   "execution_count": 18,
   "metadata": {},
   "outputs": [
    {
     "name": "stdout",
     "output_type": "stream",
     "text": [
      "Python\n",
      "is\n",
      "good\n",
      "me\n"
     ]
    }
   ],
   "source": [
    "# print even length words\n",
    "\n",
    "#function\n",
    "\n",
    "def PrintEvenWords(s):\n",
    "    # splitting words\n",
    "    s=s.split(' ')\n",
    "    # iterate over words\n",
    "    for word in s:\n",
    "        if len(word)%2==0:\n",
    "            #printing even length words\n",
    "            print(word)\n",
    "    \n",
    "string=\"Python is good for me\"\n",
    "PrintEvenWords(string)"
   ]
  },
  {
   "cell_type": "markdown",
   "metadata": {},
   "source": [
    "# 8 Python program to accept the strings which contains all vowels"
   ]
  },
  {
   "cell_type": "code",
   "execution_count": 19,
   "metadata": {},
   "outputs": [
    {
     "name": "stdout",
     "output_type": "stream",
     "text": [
      "AeBIdffoBUw\n",
      "Accepted\n",
      "python\n",
      "Not accepted\n"
     ]
    }
   ],
   "source": [
    "# check if the string\n",
    "#contains all vowels\n",
    "\n",
    "#function\n",
    "def CheckString(s):\n",
    "    s= s.lower()\n",
    "    vowels = set(\"aeiou\")\n",
    "    for char in s:\n",
    "        if char in vowels:\n",
    "            vowels.remove(char)\n",
    "    if len(vowels) == 0:\n",
    "        print(\"Accepted\")\n",
    "    else:\n",
    "        print(\"Not accepted\")\n",
    "        \n",
    "s1= \"AeBIdffoBUw\"\n",
    "print(s1)\n",
    "CheckString(s1)\n",
    "\n",
    "s2=\"python\"\n",
    "print(s2)\n",
    "CheckString(s2)\n",
    "\n",
    "    "
   ]
  },
  {
   "cell_type": "markdown",
   "metadata": {},
   "source": [
    "# 9 Python program to count the number of matching characters in a pair of string"
   ]
  },
  {
   "cell_type": "code",
   "execution_count": 20,
   "metadata": {},
   "outputs": [
    {
     "name": "stdout",
     "output_type": "stream",
     "text": [
      "Matching char: 8\n"
     ]
    }
   ],
   "source": [
    "def count(s1, s2):\n",
    "    c=0 #counter variable\n",
    "    j=0\n",
    "    for i in s1:\n",
    "        if s2.find(i)>-0 and j==s1.find(i):\n",
    "            c=c+1\n",
    "        j=j+1\n",
    "    print(\"Matching char:\",c)\n",
    "    \n",
    "s1=\"aabcdefk12\"\n",
    "s2=\"b2acdefk1\"\n",
    "count(s1,s2)"
   ]
  },
  {
   "cell_type": "markdown",
   "metadata": {},
   "source": [
    "# 10 Python program to remove all duplicates from a given string"
   ]
  },
  {
   "cell_type": "code",
   "execution_count": 21,
   "metadata": {},
   "outputs": [
    {
     "name": "stdout",
     "output_type": "stream",
     "text": [
      "abcfgbsca\n",
      "After removing duplicates: abcfgs\n"
     ]
    }
   ],
   "source": [
    "from collections import OrderedDict\n",
    "\n",
    "def remove_duplicate(s):\n",
    "    return\"\".join(OrderedDict.fromkeys(s))\n",
    "\n",
    "#test\n",
    "s=\"abcfgbsca\"\n",
    "print(s)\n",
    "print(\"After removing duplicates:\",remove_duplicate(s))\n",
    "      \n"
   ]
  }
 ],
 "metadata": {
  "kernelspec": {
   "display_name": "Python 3.10.5 64-bit",
   "language": "python",
   "name": "python3"
  },
  "language_info": {
   "codemirror_mode": {
    "name": "ipython",
    "version": 3
   },
   "file_extension": ".py",
   "mimetype": "text/x-python",
   "name": "python",
   "nbconvert_exporter": "python",
   "pygments_lexer": "ipython3",
   "version": "3.10.5"
  },
  "orig_nbformat": 4,
  "vscode": {
   "interpreter": {
    "hash": "beedbe2faf2f7048d727558d0bc3221e7eba2a0b921cac4d4771b2feb8f74b30"
   }
  }
 },
 "nbformat": 4,
 "nbformat_minor": 2
}
