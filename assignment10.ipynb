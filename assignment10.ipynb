{
 "cells": [
  {
   "cell_type": "markdown",
   "metadata": {},
   "source": [
    "# 1 Python ways to remove a keyfrom dictionary                             "
   ]
  },
  {
   "cell_type": "code",
   "execution_count": 1,
   "metadata": {},
   "outputs": [
    {
     "name": "stdout",
     "output_type": "stream",
     "text": [
      "{'a': 1, 'b': 2, 'c': 3, 'd': 4}\n",
      "{'b': 2, 'c': 3, 'd': 4}\n"
     ]
    }
   ],
   "source": [
    "myDict = {'a':1, 'b':2, 'c':3, 'd':4}\n",
    "print(myDict)\n",
    "if 'a' in myDict:\n",
    "    del myDict['a']\n",
    "print(myDict)"
   ]
  },
  {
   "cell_type": "markdown",
   "metadata": {},
   "source": [
    "# 2 Ways to sort list of dictionaries by values in python using itemgetter"
   ]
  },
  {
   "cell_type": "code",
   "execution_count": 6,
   "metadata": {},
   "outputs": [
    {
     "name": "stdout",
     "output_type": "stream",
     "text": [
      "The list sorted by age is :\n",
      "[{'name': 'Rob', 'age': 20}, {'name': 'Mark', 'age': 34}, {'name': 'Will', 'age': 56}]\n",
      "The list sorted by age and name is :\n",
      "[{'name': 'Rob', 'age': 20}, {'name': 'Mark', 'age': 34}, {'name': 'Will', 'age': 56}]\n",
      "The list sorted by age in descending order is :\n",
      "[{'name': 'Will', 'age': 56}, {'name': 'Mark', 'age': 34}, {'name': 'Rob', 'age': 20}]\n"
     ]
    }
   ],
   "source": [
    "from operator import itemgetter\n",
    "my_list= [{ \"name\" : \"Will\",\"age\" : 56},\n",
    "          { \"name\" :  \"Rob\", \"age\" : 20},\n",
    "          { \"name\" :  \"Mark\", \"age\" : 34}]\n",
    "print(\"The list sorted by age is :\")\n",
    "print(sorted(my_list, key=itemgetter('age')))\n",
    "\n",
    "print(\"The list sorted by age and name is :\")\n",
    "print(sorted(my_list, key=itemgetter('age','name')))\n",
    "\n",
    "print(\"The list sorted by age in descending order is :\")\n",
    "print(sorted(my_list, key=itemgetter('age'),reverse = True))"
   ]
  },
  {
   "cell_type": "markdown",
   "metadata": {},
   "source": [
    "#  3 ways to sort list of dictionaries by values in using lambda function"
   ]
  },
  {
   "cell_type": "code",
   "execution_count": 7,
   "metadata": {},
   "outputs": [
    {
     "name": "stdout",
     "output_type": "stream",
     "text": [
      "The list sorted by age is :\n",
      "[{'name': 'Rob', 'age': 20}, {'name': 'Mark', 'age': 34}, {'name': 'Will', 'age': 56}]\n",
      "The list sorted by age and name is :\n",
      "[{'name': 'Rob', 'age': 20}, {'name': 'Mark', 'age': 34}, {'name': 'Will', 'age': 56}]\n",
      "The list sorted by age in descending order is :\n",
      "[{'name': 'Will', 'age': 56}, {'name': 'Mark', 'age': 34}, {'name': 'Rob', 'age': 20}]\n"
     ]
    }
   ],
   "source": [
    "from operator import itemgetter\n",
    "my_list = [{\"name\": \"Will\", \"age\" : 56},\n",
    "           {\"name\"  :  \"Rob\",  \"age\" : 20},\n",
    "           {\"name\" : \"Mark\", \"age\" : 34}]\n",
    "print(\"The list sorted by age is :\")\n",
    "print(sorted(my_list, key=lambda i: i['age']))\n",
    "\n",
    "print(\"The list sorted by age and name is :\")\n",
    "print(sorted(my_list, key=lambda i: (i['age'], i['name'])))\n",
    "\n",
    "print(\"The list sorted by age in descending order is :\")\n",
    "print(sorted(my_list, key=lambda i: i['age'],reverse=True))"
   ]
  },
  {
   "cell_type": "markdown",
   "metadata": {},
   "source": [
    "# 4 Python program to merge two dictionaries"
   ]
  },
  {
   "cell_type": "code",
   "execution_count": 8,
   "metadata": {},
   "outputs": [
    {
     "name": "stdout",
     "output_type": "stream",
     "text": [
      "{'a': 100, 'b': 200, 'x': 300, 'y': 200}\n"
     ]
    }
   ],
   "source": [
    "d1={'a': 100, 'b': 200}\n",
    "d2={ 'x': 300, 'y':200}\n",
    "d=d1.copy()\n",
    "d.update(d2)\n",
    "print(d)"
   ]
  },
  {
   "cell_type": "markdown",
   "metadata": {},
   "source": [
    "# 5 python-convert key-values list to flat dictionary"
   ]
  },
  {
   "cell_type": "code",
   "execution_count": 9,
   "metadata": {},
   "outputs": [
    {
     "name": "stdout",
     "output_type": "stream",
     "text": [
      "The dictionary is :\n",
      "{'month_num': [1, 2, 3, 4, 5, 6], 'name_of_month': ['jan', 'feb', 'march', 'apr', 'may', 'june']}\n",
      "The flattened dictionary is:\n",
      "{1: 'jan', 2: 'feb', 3: 'march', 4: 'apr', 5: 'may', 6: 'june'}\n"
     ]
    }
   ],
   "source": [
    "from itertools import product\n",
    "\n",
    "my_dict={'month_num' : [1, 2, 3, 4, 5, 6], 'name_of_month' : ['jan', 'feb', 'march', 'apr', 'may', 'june']}\n",
    "\n",
    "print(\"The dictionary is :\")\n",
    "print(my_dict)\n",
    "\n",
    "my_result = dict(zip(my_dict['month_num'], my_dict['name_of_month']))\n",
    "\n",
    "print(\"The flattened dictionary is:\")\n",
    "print(my_result)"
   ]
  },
  {
   "cell_type": "markdown",
   "metadata": {},
   "source": [
    "# 6 Python program to insertion at the beginning in ordereddict"
   ]
  },
  {
   "cell_type": "code",
   "execution_count": 10,
   "metadata": {},
   "outputs": [
    {
     "name": "stdout",
     "output_type": "stream",
     "text": [
      "Resultant Dictionary :\n",
      "OrderedDict([('D', '400'), ('A', '100'), ('B', '200'), ('C', '300')])\n"
     ]
    }
   ],
   "source": [
    "from collections import OrderedDict\n",
    "\n",
    "dic1 = OrderedDict([('A', '100'), ('B', '200'), ('C', '300')])\n",
    "insrt = OrderedDict([(\"D\", '400')])\n",
    "\n",
    "final = OrderedDict(list(insrt.items()) + list(dic1.items()))\n",
    "\n",
    "# print result\n",
    "print(\"Resultant Dictionary :\")\n",
    "print(final)"
   ]
  },
  {
   "cell_type": "markdown",
   "metadata": {},
   "source": [
    "# 7 Python program to check order of characters in string using orderDict()"
   ]
  },
  {
   "cell_type": "code",
   "execution_count": 11,
   "metadata": {},
   "outputs": [
    {
     "name": "stdout",
     "output_type": "stream",
     "text": [
      "The string is\n",
      "Hi Ram\n",
      "The input pattern is\n",
      "The order of pattern is incorrect\n"
     ]
    }
   ],
   "source": [
    "from collections import OrderedDict\n",
    "def check_order(my_input, my_pattern):\n",
    "    my_dict = OrderedDict.fromkeys(my_input)\n",
    "    pattern_length = 0\n",
    "    for key,value in my_dict.items():\n",
    "        if (key == my_pattern[pattern_length]):\n",
    "            pattern_length = pattern_length + 1\n",
    "       \n",
    "        if (pattern_length == (len(my_pattern))):\n",
    "            return 'The order of pattern is correct'\n",
    "        return 'The order of pattern is incorrect'\n",
    "    \n",
    "my_input = 'Hi Ram'\n",
    "input_pattern = 'Ra'\n",
    "print(\"The string is\")\n",
    "print(my_input)\n",
    "print(\"The input pattern is\")\n",
    "print(check_order(my_input,input_pattern))"
   ]
  },
  {
   "cell_type": "markdown",
   "metadata": {},
   "source": [
    "# 8  Dictionary and counter in python to find winner of election"
   ]
  },
  {
   "cell_type": "code",
   "execution_count": 15,
   "metadata": {},
   "outputs": [
    {
     "name": "stdout",
     "output_type": "stream",
     "text": [
      "john\n"
     ]
    }
   ],
   "source": [
    "from collections import Counter\n",
    "\n",
    "votes =['john', 'johnny', 'jackie', 'johnny', 'john', 'jackie', 'jamie', 'john', 'jamie', 'johnny' 'john']\n",
    "\n",
    "#Count the votes for persons and stores in the dictionary\n",
    "vote_count=Counter(votes)\n",
    "\n",
    "#Find the maximum number of votes\n",
    "max_votes=max(vote_count.values())\n",
    "\n",
    "#Search for people having maximum votes and store in a list\n",
    "lst=[i for i in vote_count.keys() if vote_count[i]==max_votes]\n",
    "#Sort the list and print lexicographical smallest name\n",
    "print(sorted(lst)[0])\n"
   ]
  },
  {
   "cell_type": "markdown",
   "metadata": {},
   "source": [
    "# 9 Append dictionary keys and values in order in dictionary using python"
   ]
  },
  {
   "cell_type": "code",
   "execution_count": 13,
   "metadata": {},
   "outputs": [
    {
     "name": "stdout",
     "output_type": "stream",
     "text": [
      "The dictionary is :\n",
      "{'January': 1, 'Feb': 2, 'March': 3, 'April': 4, 'May': 5, 'June': 6}\n",
      "The ordered key and value are :\n",
      "['January', 'Feb', 'March', 'April', 'May', 'June', 1, 2, 3, 4, 5, 6]\n"
     ]
    }
   ],
   "source": [
    "my_dict = {\"January\" : 1, \"Feb\" : 2, \"March\" : 3, 'April' :4, 'May' : 5, 'June' :6}\n",
    "\n",
    "print(\"The dictionary is :\")\n",
    "print(my_dict)\n",
    "\n",
    "my_result = list(my_dict.keys()) + list(my_dict.values())\n",
    "\n",
    "print(\"The ordered key and value are :\")\n",
    "print(my_result)"
   ]
  },
  {
   "cell_type": "markdown",
   "metadata": {},
   "source": [
    "# 10 Python|Sort Python Dictionaries by Key or Value"
   ]
  },
  {
   "cell_type": "code",
   "execution_count": 14,
   "metadata": {},
   "outputs": [
    {
     "name": "stdout",
     "output_type": "stream",
     "text": [
      "{'China': 1393000000, 'France': 67000000, 'India': 325200000}\n",
      "{'France': 67000000, 'India': 325200000, 'China': 1393000000}\n",
      "{'China': 1393000000, 'India': 325200000, 'France': 67000000}\n"
     ]
    }
   ],
   "source": [
    "CountryPopulation = {'India' : 325_200_000, 'France': 67_000_000, 'China' : 1_393_000_000}\n",
    "\n",
    "SortedByKey = {K:V for K, V in sorted(CountryPopulation.items())}\n",
    "SortedByVal1 = {K:V for K,V in sorted(CountryPopulation.items(),key=lambda V: V[1])}\n",
    "SortedByVal2 = {K:V for K,V in sorted(CountryPopulation.items(),key=lambda V : V[1],reverse=True)}\n",
    "print(SortedByKey)\n",
    "print(SortedByVal1)\n",
    "print(SortedByVal2)\n"
   ]
  }
 ],
 "metadata": {
  "kernelspec": {
   "display_name": "Python 3.9.12 ('base')",
   "language": "python",
   "name": "python3"
  },
  "language_info": {
   "codemirror_mode": {
    "name": "ipython",
    "version": 3
   },
   "file_extension": ".py",
   "mimetype": "text/x-python",
   "name": "python",
   "nbconvert_exporter": "python",
   "pygments_lexer": "ipython3",
   "version": "3.9.12"
  },
  "orig_nbformat": 4,
  "vscode": {
   "interpreter": {
    "hash": "610a6f344c2137faf927ea819c63f6cee33a2c04455044b28099f39fe9722347"
   }
  }
 },
 "nbformat": 4,
 "nbformat_minor": 2
}
