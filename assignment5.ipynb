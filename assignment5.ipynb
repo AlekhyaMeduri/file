{
 "cells": [
  {
   "cell_type": "markdown",
   "metadata": {},
   "source": [
    "# 1 Program to print all negative numbers in range"
   ]
  },
  {
   "cell_type": "code",
   "execution_count": 1,
   "metadata": {},
   "outputs": [
    {
     "name": "stdout",
     "output_type": "stream",
     "text": [
      "-4-3-2-1"
     ]
    }
   ],
   "source": [
    "start, end=-4, 19\n",
    "#iterating each number in list\n",
    "for num in range(start, end + 1):\n",
    "    #checking condition\n",
    "    if num<0:\n",
    "        print(num, end=\"\")"
   ]
  },
  {
   "cell_type": "markdown",
   "metadata": {},
   "source": [
    "# 2 Program to remove multiple elements from a list in python"
   ]
  },
  {
   "cell_type": "code",
   "execution_count": 2,
   "metadata": {},
   "outputs": [
    {
     "name": "stdout",
     "output_type": "stream",
     "text": [
      "list after removing elements [7, 3, 8, 4]\n"
     ]
    }
   ],
   "source": [
    "li=[]\n",
    "n=int(input(\"Enter size of list\"))\n",
    "for i in range(0,n):\n",
    "    e=int(input(\"Enter element of list\"))\n",
    "    li.append(e)\n",
    "    \n",
    "for i in list(li):\n",
    "    if i % 5 == 0:\n",
    "        li.remove(i)\n",
    "\n",
    "print(\"list after removing elements\",li)"
   ]
  },
  {
   "cell_type": "markdown",
   "metadata": {},
   "source": [
    "# 3 Program to remove empty list from list"
   ]
  },
  {
   "cell_type": "code",
   "execution_count": 3,
   "metadata": {},
   "outputs": [
    {
     "name": "stdout",
     "output_type": "stream",
     "text": [
      "The original list is:[1, [], 2, 3, [], 4, 5, [], [], 9]\n",
      "List after empty list removal:[1, 2, 3, 4, 5, 9]\n"
     ]
    }
   ],
   "source": [
    "mylist=[1, [] ,2, 3, [], 4, 5, [], [], 9]\n",
    "\n",
    "#printing original list\n",
    "print(\"The original list is:\"+ str(mylist))\n",
    "\n",
    "#remove empty list from list\n",
    "result=[ele for ele in mylist if ele !=[]]\n",
    "\n",
    "print(\"List after empty list removal:\"+ str(result))"
   ]
  },
  {
   "cell_type": "markdown",
   "metadata": {},
   "source": [
    "# 4 Python program to cloning or copying a list"
   ]
  },
  {
   "cell_type": "code",
   "execution_count": 1,
   "metadata": {},
   "outputs": [
    {
     "name": "stdout",
     "output_type": "stream",
     "text": [
      "Original list: [6, 8, 3, 5]\n",
      "After cloning: [6, 8, 3, 5]\n"
     ]
    }
   ],
   "source": [
    "li=[]\n",
    "n=int(input(\"Enter size of list\"))\n",
    "for i in range(0,n):\n",
    "    e=int(input(\"Enter element of list\"))\n",
    "    li.append(e)\n",
    "print(\"Original list:\",li)\n",
    "\n",
    "#cloning\n",
    "list_copy=li[:]\n",
    "print(\"After cloning:\",list_copy)"
   ]
  },
  {
   "cell_type": "markdown",
   "metadata": {},
   "source": [
    "# 5 Python program to count occurences of an element in a list"
   ]
  },
  {
   "cell_type": "code",
   "execution_count": 2,
   "metadata": {},
   "outputs": [
    {
     "name": "stdout",
     "output_type": "stream",
     "text": [
      "Original list: [8, 3, 4, 12, 5]\n",
      "7 has occured 0 times\n"
     ]
    }
   ],
   "source": [
    "#input list\n",
    "li=[]\n",
    "n=int(input(\"Enter size of list\"))\n",
    "for i in range(0,n):\n",
    "    e=int(input(\"Enter element of list\"))\n",
    "    li.append(e)\n",
    "print(\"Original list:\",li)\n",
    "\n",
    "n=int(input(\"Enter element to be checked list:\"))\n",
    "\n",
    "#using count()\n",
    "print(n,\"has occured\",li.count(n),\"times\")"
   ]
  },
  {
   "cell_type": "markdown",
   "metadata": {},
   "source": [
    "# 6 Python program to remove empty tuples from a list"
   ]
  },
  {
   "cell_type": "code",
   "execution_count": 3,
   "metadata": {},
   "outputs": [
    {
     "name": "stdout",
     "output_type": "stream",
     "text": [
      "[('python', '1', '2'), ('3', '4', '5', '6')]\n"
     ]
    }
   ],
   "source": [
    "def remove(li):\n",
    "    li=[num for num in li if num]\n",
    "    return li\n",
    "li=[(), ('python', '1', '2'), (), ('3', '4', '5', '6')]\n",
    "print(remove(li))"
   ]
  },
  {
   "cell_type": "markdown",
   "metadata": {},
   "source": [
    "# 7 Python program to print duplicates from a list of integers"
   ]
  },
  {
   "cell_type": "code",
   "execution_count": 4,
   "metadata": {},
   "outputs": [
    {
     "name": "stdout",
     "output_type": "stream",
     "text": [
      "Duplicate integers: [30, -10, -20]\n"
     ]
    }
   ],
   "source": [
    "# function\n",
    "def duplicate(li):\n",
    "    n=len(li)\n",
    "    dup=[]\n",
    "    for i in range(n):\n",
    "        k=i + 1\n",
    "        for j in range(k,n):\n",
    "            if li[i]==li[j] not in dup:\n",
    "                dup.append(li[i])\n",
    "    return dup\n",
    "#test\n",
    "li=[10, 20, 30, -10, -20, 80, -10, -20, 30]\n",
    "print(\"Duplicate integers:\",duplicate(li))"
   ]
  },
  {
   "cell_type": "markdown",
   "metadata": {},
   "source": [
    "# 8 Python program to find cumulative sum of a list"
   ]
  },
  {
   "cell_type": "code",
   "execution_count": 5,
   "metadata": {},
   "outputs": [
    {
     "name": "stdout",
     "output_type": "stream",
     "text": [
      "[10, 30, 60, 100, 150]\n"
     ]
    }
   ],
   "source": [
    "def cumsum(s):\n",
    "    sum=0\n",
    "    cum_list=[]\n",
    "    for i in s:\n",
    "        sum=sum+i\n",
    "        cum_list.append(sum)\n",
    "    return cum_list\n",
    "\n",
    "a=[10,20,30,40,50]\n",
    "print(cumsum(a))"
   ]
  },
  {
   "cell_type": "markdown",
   "metadata": {},
   "source": [
    "# 9 Python program to sum of number digits in list"
   ]
  },
  {
   "cell_type": "code",
   "execution_count": 6,
   "metadata": {},
   "outputs": [
    {
     "name": "stdout",
     "output_type": "stream",
     "text": [
      "Sum of digits 27\n"
     ]
    }
   ],
   "source": [
    "n=int(input(\"Enter number\"))\n",
    "\n",
    "sum=0\n",
    "\n",
    "for digit in str(n):\n",
    "    sum=sum+int(digit)\n",
    "print(\"Sum of digits\",sum)"
   ]
  },
  {
   "cell_type": "markdown",
   "metadata": {},
   "source": [
    "# 10 Python program to break a llist into chunks to size n"
   ]
  },
  {
   "cell_type": "code",
   "execution_count": 9,
   "metadata": {},
   "outputs": [
    {
     "name": "stdout",
     "output_type": "stream",
     "text": [
      "Enter the number\n",
      "[25]\n",
      "[25, 23]\n",
      "[25, 23, 34]\n",
      "[25, 23, 34, 12]\n",
      "[25, 23, 34, 12, 56]\n",
      "[25, 23, 34, 12, 56, 33]\n",
      "List of chunks: [[25, 23, 34, 12, 56, 33], [], [], [], [], [], [], [], [], [], [], [], [], [], [], [], [], [], [], [], [], [], [], [], [], [], [], []]\n"
     ]
    }
   ],
   "source": [
    "A=list()\n",
    "n=int(input(\"Enter the size of the list\"))\n",
    "print(\"Enter the number\")\n",
    "for i in range(int(n)):\n",
    "    p=int(input(\"Size=\"))\n",
    "    A.append(int(p))\n",
    "    print(A)\n",
    "n=int(input(\"Enter chunk size\"))\n",
    "my_final=[A[i * n:(i+1) * n] for i in range(len(A) +n-1//n)]\n",
    "print(\"List of chunks:\",my_final)"
   ]
  },
  {
   "cell_type": "markdown",
   "metadata": {},
   "source": [
    "# 11 Python program to sort the values of first list using second list"
   ]
  },
  {
   "cell_type": "code",
   "execution_count": 10,
   "metadata": {},
   "outputs": [
    {
     "name": "stdout",
     "output_type": "stream",
     "text": [
      "['123456']\n"
     ]
    }
   ],
   "source": [
    "first_list=[\"A\", \"L\", \"E\" \"X\", \"P\" \"S\"]\n",
    "second_list=['1' '2' '3' '4' '5' '6']\n",
    "\n",
    "zipped_pairs=zip(first_list,second_list)\n",
    "\n",
    "sorted_pairs=sorted(zipped_pairs)\n",
    "\n",
    "result=[item[1] for item in sorted_pairs]\n",
    "\n",
    "print(result)"
   ]
  }
 ],
 "metadata": {
  "kernelspec": {
   "display_name": "Python 3.10.5 64-bit",
   "language": "python",
   "name": "python3"
  },
  "language_info": {
   "codemirror_mode": {
    "name": "ipython",
    "version": 3
   },
   "file_extension": ".py",
   "mimetype": "text/x-python",
   "name": "python",
   "nbconvert_exporter": "python",
   "pygments_lexer": "ipython3",
   "version": "3.10.5"
  },
  "orig_nbformat": 4,
  "vscode": {
   "interpreter": {
    "hash": "beedbe2faf2f7048d727558d0bc3221e7eba2a0b921cac4d4771b2feb8f74b30"
   }
  }
 },
 "nbformat": 4,
 "nbformat_minor": 2
}
