{
 "cells": [
  {
   "cell_type": "markdown",
   "metadata": {},
   "source": [
    "# 1 Program to find smallest number in list"
   ]
  },
  {
   "cell_type": "code",
   "execution_count": 2,
   "metadata": {},
   "outputs": [
    {
     "name": "stdout",
     "output_type": "stream",
     "text": [
      "smallest in  [3, 9, 7, 3, 6, 5, 7] is\n",
      "3\n"
     ]
    }
   ],
   "source": [
    "def smallest(list):\n",
    "    small=list[0]\n",
    "    for i in list:\n",
    "        if i<small:\n",
    "            small=i\n",
    "    return small\n",
    "#list\n",
    "list=[3,9,7,3,6,5,7]\n",
    "print(\"smallest in \",list,\"is\")\n",
    "print(smallest(list))"
   ]
  },
  {
   "cell_type": "markdown",
   "metadata": {},
   "source": [
    "# 2 To find largest number in list"
   ]
  },
  {
   "cell_type": "code",
   "execution_count": 3,
   "metadata": {},
   "outputs": [
    {
     "name": "stdout",
     "output_type": "stream",
     "text": [
      "largest in [3, 9, 7, 3, 5, 9, 4, 13] is\n",
      "13\n"
     ]
    }
   ],
   "source": [
    "def largest(list):\n",
    "    large=list[0]\n",
    "    for i in list:\n",
    "        if i>large:\n",
    "            large=i\n",
    "    return large\n",
    "#list\n",
    "list=[3,9,7,3,5,9,4,13]\n",
    "print(\"largest in\",list,\"is\")\n",
    "print(largest(list))"
   ]
  },
  {
   "cell_type": "markdown",
   "metadata": {},
   "source": [
    "# 3 To find second largest number in list"
   ]
  },
  {
   "cell_type": "code",
   "execution_count": 5,
   "metadata": {},
   "outputs": [
    {
     "name": "stdout",
     "output_type": "stream",
     "text": [
      "second largest in [7, 3, 2, 8, 5] is\n",
      "7\n"
     ]
    }
   ],
   "source": [
    "def second_largest(list):\n",
    "    list.sort()\n",
    "    return list[-2]\n",
    "#input of list\n",
    "li=[]\n",
    "n=int(input(\"Enter size of list\"))\n",
    "for i in range(0,n):\n",
    "    e=int(input(\"Enter element of list\"))\n",
    "    li.append(e)\n",
    "    \n",
    "#smallest\n",
    "print(\"second largest in\",li,\"is\")\n",
    "print(second_largest(li))"
   ]
  },
  {
   "cell_type": "markdown",
   "metadata": {},
   "source": [
    "# 4 To find n largest element from a list"
   ]
  },
  {
   "cell_type": "code",
   "execution_count": 6,
   "metadata": {},
   "outputs": [
    {
     "name": "stdout",
     "output_type": "stream",
     "text": [
      "2 max elements in [2, 6, 41, 85, 0, 3, 7, 6, 10]\n",
      "[85, 41]\n"
     ]
    }
   ],
   "source": [
    "def N_max_elements(list,N):\n",
    "    result_list=[]\n",
    "    \n",
    "    for i in range(0,N):\n",
    "        maximum=0\n",
    "        \n",
    "        for j in range(len(list)):\n",
    "            if list[j]>maximum:\n",
    "                maximum=list[j]\n",
    "        list.remove(maximum)\n",
    "        result_list.append(maximum)\n",
    "    return result_list\n",
    "#test\n",
    "list1=[2,6,41,85,0,3,7,6,10]\n",
    "N=2\n",
    "\n",
    "print(N,\"max elements in\",list1)\n",
    "# calling and printing the function\n",
    "print(N_max_elements(list1,N))"
   ]
  },
  {
   "cell_type": "markdown",
   "metadata": {},
   "source": [
    "# 5 To print even numbers in list"
   ]
  },
  {
   "cell_type": "code",
   "execution_count": 7,
   "metadata": {},
   "outputs": [
    {
     "name": "stdout",
     "output_type": "stream",
     "text": [
      "Even numbers in [3, 6, 1, 8, 6]\n",
      "[6, 8, 6]\n"
     ]
    }
   ],
   "source": [
    "def even(list):\n",
    "    new_list=[]\n",
    "    for i in list:\n",
    "        if i%2==0:\n",
    "            new_list.append(i)\n",
    "    return new_list\n",
    "#input\n",
    "li=[]\n",
    "n=int(input(\"Enter size of list\"))\n",
    "for i in range(0,n):\n",
    "    e=int(input(\"Enter element of list\"))\n",
    "    li.append(e)\n",
    "print(\"Even numbers in\",li)\n",
    "print(even(li))"
   ]
  },
  {
   "cell_type": "markdown",
   "metadata": {},
   "source": []
  },
  {
   "cell_type": "markdown",
   "metadata": {},
   "source": [
    "# 6 Program to print odd numbers in list"
   ]
  },
  {
   "cell_type": "code",
   "execution_count": 1,
   "metadata": {},
   "outputs": [
    {
     "name": "stdout",
     "output_type": "stream",
     "text": [
      "odd numbers in [5, 7, 13]\n",
      "[5, 7, 13]\n"
     ]
    }
   ],
   "source": [
    "def odd(list):\n",
    "    new_list=[]\n",
    "    for i in list:\n",
    "        if i%2!=0:\n",
    "            new_list.append(i)\n",
    "    return new_list\n",
    "#input\n",
    "li=[]\n",
    "n=int(input(\"Enter size of list\"))\n",
    "for i in range(0,n):\n",
    "    e=int(input(\"Enter element of list\"))\n",
    "    li.append(e)\n",
    "print(\"odd numbers in\",li)\n",
    "print(odd(li))"
   ]
  },
  {
   "cell_type": "markdown",
   "metadata": {},
   "source": [
    "# 7 Program to print all even numbers in range"
   ]
  },
  {
   "cell_type": "code",
   "execution_count": 2,
   "metadata": {},
   "outputs": [
    {
     "name": "stdout",
     "output_type": "stream",
     "text": [
      "Even numbers in the range are\n",
      "681012141618"
     ]
    }
   ],
   "source": [
    "ll=int(input(\"Enter lower limit\"))\n",
    "ul=int(input(\"Enter upper limit\"))\n",
    "\n",
    "print(\"Even numbers in the range are\")\n",
    "\n",
    "#loop\n",
    "\n",
    "for i in range(ll,ul):\n",
    "    if i%2==0:\n",
    "        print(i,end=\"\")\n",
    "    "
   ]
  },
  {
   "cell_type": "markdown",
   "metadata": {},
   "source": [
    "# 8 Program to print all odd numbers in range"
   ]
  },
  {
   "cell_type": "code",
   "execution_count": 3,
   "metadata": {},
   "outputs": [
    {
     "name": "stdout",
     "output_type": "stream",
     "text": [
      "odd numbers in the range are\n",
      "7911131517192123252729"
     ]
    }
   ],
   "source": [
    "ll=int(input(\"Enter lower limit\"))\n",
    "ul=int(input(\"Enter upper limit\"))\n",
    "\n",
    "print(\"odd numbers in the range are\")\n",
    "\n",
    "#loop\n",
    "\n",
    "for i in range(ll,ul):\n",
    "    if i%2!=0:\n",
    "        print(i,end=\"\")"
   ]
  },
  {
   "cell_type": "markdown",
   "metadata": {},
   "source": [
    "# 9 Program to find positive numbers in list"
   ]
  },
  {
   "cell_type": "code",
   "execution_count": 4,
   "metadata": {},
   "outputs": [
    {
     "name": "stdout",
     "output_type": "stream",
     "text": [
      "Positive numbers in [3, -9, 0, -2, 1] are:\n",
      "301"
     ]
    }
   ],
   "source": [
    "# input of list\n",
    "li=[]\n",
    "n=int(input(\"Enter size of list\"))\n",
    "for i in range(0,n):\n",
    "    e=int(input(\"Enter element of list\"))\n",
    "    li.append(e)\n",
    "    \n",
    "print(\"Positive numbers in\",li,\"are:\")\n",
    "\n",
    "#traversing\n",
    "for i in li:\n",
    "    #checking condition\n",
    "    if i>=0:\n",
    "        print(i,end=\"\")"
   ]
  },
  {
   "cell_type": "markdown",
   "metadata": {},
   "source": [
    "# 10 Program to print negative numbers in list"
   ]
  },
  {
   "cell_type": "code",
   "execution_count": 5,
   "metadata": {},
   "outputs": [
    {
     "name": "stdout",
     "output_type": "stream",
     "text": [
      "negative numbers in [0, -3, 4, -6, -7, -2] are:\n",
      "-3-6-7-2"
     ]
    }
   ],
   "source": [
    "# input of list\n",
    "li=[]\n",
    "n=int(input(\"Enter size of list\"))\n",
    "for i in range(0,n):\n",
    "    e=int(input(\"Enter element of list\"))\n",
    "    li.append(e)\n",
    "    \n",
    "print(\"negative numbers in\",li,\"are:\")\n",
    "\n",
    "#traversing\n",
    "for i in li:\n",
    "    \n",
    "    # checking condition\n",
    "    if i<0:\n",
    "        print(i,end=\"\")"
   ]
  },
  {
   "cell_type": "markdown",
   "metadata": {},
   "source": [
    "# 11 Program to print all positive numbers in range"
   ]
  },
  {
   "cell_type": "code",
   "execution_count": 6,
   "metadata": {},
   "outputs": [
    {
     "name": "stdout",
     "output_type": "stream",
     "text": [
      "012345678910111213141516171819"
     ]
    }
   ],
   "source": [
    "start, end=-4, 19\n",
    "\n",
    "#iterating each number in list\n",
    "for num in range(start, end + 1):\n",
    "    \n",
    "    #checking condition\n",
    "    if num>=0:\n",
    "        print(num, end=\"\")"
   ]
  }
 ],
 "metadata": {
  "kernelspec": {
   "display_name": "Python 3.10.5 64-bit",
   "language": "python",
   "name": "python3"
  },
  "language_info": {
   "codemirror_mode": {
    "name": "ipython",
    "version": 3
   },
   "file_extension": ".py",
   "mimetype": "text/x-python",
   "name": "python",
   "nbconvert_exporter": "python",
   "pygments_lexer": "ipython3",
   "version": "3.10.5"
  },
  "orig_nbformat": 4,
  "vscode": {
   "interpreter": {
    "hash": "beedbe2faf2f7048d727558d0bc3221e7eba2a0b921cac4d4771b2feb8f74b30"
   }
  }
 },
 "nbformat": 4,
 "nbformat_minor": 2
}
