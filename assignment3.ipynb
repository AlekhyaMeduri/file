{
 "cells": [
  {
   "cell_type": "markdown",
   "metadata": {},
   "source": [
    "# 1 Remainder of array multiplication divided by 4"
   ]
  },
  {
   "cell_type": "code",
   "execution_count": 2,
   "metadata": {},
   "outputs": [
    {
     "name": "stdout",
     "output_type": "stream",
     "text": [
      "9\n"
     ]
    }
   ],
   "source": [
    "\n",
    "def remainder(arr,lens,n):\n",
    "        mul=1\n",
    "        for i in arr:\n",
    "         mul=mul*(i%n)\n",
    "        return mul%n\n",
    "arr=[100,10,5,25,35,14]\n",
    "lens=len(arr)\n",
    "n=11\n",
    "print(remainder(arr,len,n))\n",
    "\n"
   ]
  },
  {
   "cell_type": "markdown",
   "metadata": {},
   "source": [
    "# 2 To check if a given array is monotonic"
   ]
  },
  {
   "cell_type": "code",
   "execution_count": 16,
   "metadata": {},
   "outputs": [
    {
     "name": "stdout",
     "output_type": "stream",
     "text": [
      "True\n",
      "False\n",
      "True\n",
      "True\n"
     ]
    }
   ],
   "source": [
    "def ismonotone(a):\n",
    "     n=len(a) #size of array\n",
    "     if n==1:\n",
    "        return True\n",
    "     else:\n",
    "        #check for monotone behaviour\n",
    "        if all(a[i]>=a[i+1] for i in range(0,n-1) or a[i+1] for i in range(0,n-1)):\n",
    "           return True\n",
    "        else:    \n",
    "         return False\n",
    "A=[6,5,4,2]\n",
    "print(ismonotone(A))\n",
    "b=[6,2,4,2]\n",
    "print(ismonotone(b))\n",
    "c=[4,3,2]\n",
    "print(ismonotone(c))\n",
    "d=[1]\n",
    "print(ismonotone(d))"
   ]
  },
  {
   "cell_type": "markdown",
   "metadata": {},
   "source": [
    "# 3 To interchange first and last element in the list"
   ]
  },
  {
   "cell_type": "code",
   "execution_count": 5,
   "metadata": {},
   "outputs": [
    {
     "name": "stdout",
     "output_type": "stream",
     "text": [
      "enter the 1 element\n",
      "list before swapping\n",
      " [2]\n",
      "\n",
      " list after swapping\n",
      " [2]\n",
      "enter the 2 element\n",
      "list before swapping\n",
      " [2, 8]\n",
      "\n",
      " list after swapping\n",
      " [8, 2]\n",
      "enter the 3 element\n",
      "list before swapping\n",
      " [8, 2, 2]\n",
      "\n",
      " list after swapping\n",
      " [2, 2, 8]\n",
      "enter the 4 element\n",
      "list before swapping\n",
      " [2, 2, 8, 12]\n",
      "\n",
      " list after swapping\n",
      " [12, 2, 8, 2]\n",
      "enter the 5 element\n",
      "list before swapping\n",
      " [12, 2, 8, 2, 10]\n",
      "\n",
      " list after swapping\n",
      " [10, 2, 8, 2, 12]\n"
     ]
    }
   ],
   "source": [
    "list=[]\n",
    "num=int(input(\"enter the number you want to insert in list\\n\"))\n",
    "for i in range(1,num+1):\n",
    "    print(\"enter the\",i,\"element\")\n",
    "    list.append(int(input()))\n",
    "    print(\"list before swapping\\n\",list)\n",
    "    length=len(list)\n",
    "    list[0],list[length-1]=list[length-1],list[0]\n",
    "    print(\"\\n list after swapping\\n\",list)"
   ]
  },
  {
   "cell_type": "markdown",
   "metadata": {},
   "source": [
    "# 4 Program to swap two elements in a list"
   ]
  },
  {
   "cell_type": "code",
   "execution_count": 17,
   "metadata": {},
   "outputs": [
    {
     "name": "stdout",
     "output_type": "stream",
     "text": [
      "[10, 14, 5, 9, 56, 12]\n",
      "Swapped list: [10, 56, 5, 9, 14, 12]\n"
     ]
    }
   ],
   "source": [
    "def swaplist(s1,pos1,pos2):\n",
    "    n=len(s1)\n",
    "    #swapping\n",
    "    temp=s1[pos1]\n",
    "    s1[pos1]=s1[pos2]\n",
    "    s1[pos2]=temp\n",
    "    return s1\n",
    "l=[10, 14, 5, 9, 56, 12]\n",
    "pos1=2\n",
    "pos2=5\n",
    "\n",
    "print(l)\n",
    "print(\"Swapped list:\",swaplist(l,pos1-1,pos2-1))\n",
    "\n",
    "\n"
   ]
  },
  {
   "cell_type": "markdown",
   "metadata": {},
   "source": [
    "# 5 To find length of list"
   ]
  },
  {
   "cell_type": "code",
   "execution_count": 9,
   "metadata": {},
   "outputs": [
    {
     "name": "stdout",
     "output_type": "stream",
     "text": [
      "(1, 4, 6, 7, 8, 10, 14, 15)\n",
      "length of list is: 1\n",
      "length of list is: 2\n",
      "length of list is: 3\n",
      "length of list is: 4\n",
      "length of list is: 5\n",
      "length of list is: 6\n",
      "length of list is: 7\n",
      "length of list is: 8\n"
     ]
    }
   ],
   "source": [
    "mylist=(1,4,6,7,8,10,14,15)\n",
    "print(mylist)\n",
    "count=0\n",
    "for i in mylist:\n",
    "    count=count+1\n",
    "    print(\"length of list is:\",count)"
   ]
  },
  {
   "cell_type": "markdown",
   "metadata": {},
   "source": [
    "# 6 To search an element in list"
   ]
  },
  {
   "cell_type": "code",
   "execution_count": 10,
   "metadata": {},
   "outputs": [
    {
     "name": "stdout",
     "output_type": "stream",
     "text": [
      "element found\n"
     ]
    }
   ],
   "source": [
    "mylist=[1,6,3,5,3,4]\n",
    "ele=5\n",
    "if(ele in mylist):\n",
    "    print(\"element found\")\n",
    "else:\n",
    "    print(\"element not found\")"
   ]
  },
  {
   "cell_type": "markdown",
   "metadata": {},
   "source": [
    "# 7 To clear a list"
   ]
  },
  {
   "cell_type": "code",
   "execution_count": 11,
   "metadata": {},
   "outputs": [
    {
     "name": "stdout",
     "output_type": "stream",
     "text": [
      "mylist before clear: [6, 0, 4, 1]\n",
      "enter after clear: []\n"
     ]
    }
   ],
   "source": [
    "mylist=[6,0,4,1]\n",
    "print(\"mylist before clear:\",mylist)\n",
    "mylist=[]\n",
    "print(\"enter after clear:\",mylist)"
   ]
  },
  {
   "cell_type": "markdown",
   "metadata": {},
   "source": [
    "# 8 Reverse a list"
   ]
  },
  {
   "cell_type": "code",
   "execution_count": 12,
   "metadata": {},
   "outputs": [
    {
     "name": "stdout",
     "output_type": "stream",
     "text": [
      "mylist before reverse: [10, 11, 12, 13, 14, 15]\n",
      "mylist after reverse: [15, 14, 13, 12, 11, 10]\n"
     ]
    }
   ],
   "source": [
    "mylist=[10,11,12,13,14,15]\n",
    "print(\"mylist before reverse:\",mylist)\n",
    "mylist.reverse()\n",
    "print(\"mylist after reverse:\",mylist)\n"
   ]
  },
  {
   "cell_type": "markdown",
   "metadata": {},
   "source": [
    "# 9 Sum of all elements in list"
   ]
  },
  {
   "cell_type": "code",
   "execution_count": 13,
   "metadata": {},
   "outputs": [
    {
     "name": "stdout",
     "output_type": "stream",
     "text": [
      "sum of all elements in given list: 75\n"
     ]
    }
   ],
   "source": [
    "mylist=[5,10,15,20,25]\n",
    "total=sum(mylist)\n",
    "print(\"sum of all elements in given list:\",total)"
   ]
  },
  {
   "cell_type": "markdown",
   "metadata": {},
   "source": [
    "# 10 Multiple of numbers in list"
   ]
  },
  {
   "cell_type": "code",
   "execution_count": 14,
   "metadata": {},
   "outputs": [
    {
     "name": "stdout",
     "output_type": "stream",
     "text": [
      "72\n",
      "3456\n",
      "331776\n"
     ]
    }
   ],
   "source": [
    "mylist=[3,2,4]\n",
    "result=1\n",
    "for x in mylist:\n",
    "      result=result*x*24\n",
    "      print(result)"
   ]
  }
 ],
 "metadata": {
  "kernelspec": {
   "display_name": "Python 3.10.5 64-bit",
   "language": "python",
   "name": "python3"
  },
  "language_info": {
   "codemirror_mode": {
    "name": "ipython",
    "version": 3
   },
   "file_extension": ".py",
   "mimetype": "text/x-python",
   "name": "python",
   "nbconvert_exporter": "python",
   "pygments_lexer": "ipython3",
   "version": "3.10.5"
  },
  "orig_nbformat": 4,
  "vscode": {
   "interpreter": {
    "hash": "beedbe2faf2f7048d727558d0bc3221e7eba2a0b921cac4d4771b2feb8f74b30"
   }
  }
 },
 "nbformat": 4,
 "nbformat_minor": 2
}
