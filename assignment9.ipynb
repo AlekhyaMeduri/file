{
 "cells": [
  {
   "cell_type": "markdown",
   "metadata": {},
   "source": [
    "# 1 Python program to replace multiple words with k"
   ]
  },
  {
   "cell_type": "code",
   "execution_count": 1,
   "metadata": {},
   "outputs": [
    {
     "name": "stdout",
     "output_type": "stream",
     "text": [
      "The original string is : Edureka has best tutorials in python\n",
      "String after multiple replace : Edurekahaskkink\n"
     ]
    }
   ],
   "source": [
    "test_string = 'Edureka has best tutorials in python'\n",
    "print(\"The original string is : \" + str(test_string))\n",
    "\n",
    "word_list = [\"best\", 'tutorials', 'python']\n",
    "replace_word = 'k'\n",
    "replaced_string = ''.join([replace_word if i in word_list else i for i in test_string.split()])\n",
    "\n",
    "print(\"String after multiple replace : \" + str(replaced_string))\n"
   ]
  },
  {
   "cell_type": "markdown",
   "metadata": {},
   "source": [
    "# 2 Python program for permutation of a given string using inbuilt function"
   ]
  },
  {
   "cell_type": "code",
   "execution_count": 2,
   "metadata": {},
   "outputs": [
    {
     "name": "stdout",
     "output_type": "stream",
     "text": [
      "-----------Permutations of string in Tuples-----------\n",
      "[('X', 'Y', 'Z'), ('X', 'Z', 'Y'), ('Y', 'X', 'Z'), ('Y', 'Z', 'X'), ('Z', 'X', 'Y'), ('Z', 'Y', 'X')]\n",
      "-----------Permutations in string format-----------\n",
      "XYZ\n",
      "XZY\n",
      "YXZ\n",
      "YZX\n",
      "ZXY\n",
      "ZYX\n"
     ]
    }
   ],
   "source": [
    "## importing the module\n",
    "import itertools\n",
    "## initializing a string\n",
    "string = \"XYZ\"\n",
    "#itertools.permutations method\n",
    "\n",
    "permutation_list = list(itertools.permutations(string))\n",
    "## printing the obj in list\n",
    "print(\"-----------Permutations of string in Tuples-----------\")\n",
    "print(permutation_list)\n",
    "## converting the tuples to string using 'join' method\n",
    "print(\"-----------Permutations in string format-----------\")\n",
    "for tup in permutation_list:\n",
    "    print(\"\".join(tup))"
   ]
  },
  {
   "cell_type": "markdown",
   "metadata": {},
   "source": [
    "# 3 Python program to check for url in a string"
   ]
  },
  {
   "cell_type": "code",
   "execution_count": 17,
   "metadata": {},
   "outputs": [
    {
     "name": "stdout",
     "output_type": "stream",
     "text": [
      "Original string: <p>Contents :</p><a href=\"https://w3resource.com\">Python Examples</a><a href=\"http://github.com\">Even More Examples</a\n",
      "Urls: ['https://w3']\n"
     ]
    }
   ],
   "source": [
    "import re\n",
    "text = '<p>Contents :</p><a href=\"https://w3resource.com\">Python Examples</a><a href=\"http://github.com\">Even More Examples</a'\n",
    "urls = re.findall('http[s]?://(?:[a-zA-Z][0-9]|[$-_@.&+]|(?:%[0-9a-fA-F][0-9a-fA-F]))+',text)\n",
    "print(\"Original string:\",text)\n",
    "print(\"Urls:\",urls)"
   ]
  },
  {
   "cell_type": "markdown",
   "metadata": {},
   "source": [
    "# 4 Python program to execute a string of code in python"
   ]
  },
  {
   "cell_type": "code",
   "execution_count": 3,
   "metadata": {},
   "outputs": [
    {
     "name": "stdout",
     "output_type": "stream",
     "text": [
      "Hello world\n"
     ]
    }
   ],
   "source": [
    "code = \"print('Hello world')\"\n",
    "exec(code)"
   ]
  },
  {
   "cell_type": "markdown",
   "metadata": {},
   "source": [
    "#  5 Python program to string slicing in python to rotate a string"
   ]
  },
  {
   "cell_type": "code",
   "execution_count": 4,
   "metadata": {},
   "outputs": [
    {
     "name": "stdout",
     "output_type": "stream",
     "text": [
      "Left Rotation : onIneur\n",
      "Right Rotation : euronIn\n"
     ]
    }
   ],
   "source": [
    "def rotate_string(s,a):\n",
    "    # slice string in two parts for left and right\n",
    "    Lfirst = s[0 : a]\n",
    "    Lsecond = s[a :]\n",
    "    Rfirst = s[0 : len(s)-a]\n",
    "    Rsecond = s[len(s)-a : ]\n",
    "    \n",
    "    #now join two parts together\n",
    "    print(\"Left Rotation :\", (Lsecond + Lfirst) )\n",
    "    print (\"Right Rotation :\",(Rsecond + Rfirst))\n",
    "    \n",
    "string = 'Ineuron'\n",
    "a=5\n",
    "rotate_string(string,a)\n",
    "    "
   ]
  },
  {
   "cell_type": "markdown",
   "metadata": {},
   "source": [
    "#  6 String slicing in python to check if a string can become empty by recursive deletion"
   ]
  },
  {
   "cell_type": "code",
   "execution_count": 20,
   "metadata": {},
   "outputs": [
    {
     "name": "stdout",
     "output_type": "stream",
     "text": [
      "True\n"
     ]
    }
   ],
   "source": [
    "def solve(s, t):\n",
    "  while len(s) > 0:\n",
    "    position = s.find(t)\n",
    "    if position == -1:\n",
    "       break\n",
    "    s = s.replace(t, \"\", 1)\n",
    "  return len(s) == 0\n",
    "s = \"pipipinnn\"\n",
    "t = \"pin\"\n",
    "print(solve(s,t))\n",
    "    \n",
    "\n",
    "                "
   ]
  },
  {
   "cell_type": "markdown",
   "metadata": {},
   "source": [
    "# 7 Python program counter|find all duplicate characters in string"
   ]
  },
  {
   "cell_type": "code",
   "execution_count": 9,
   "metadata": {},
   "outputs": [
    {
     "name": "stdout",
     "output_type": "stream",
     "text": [
      "t o i\n"
     ]
    }
   ],
   "source": [
    "## initializing string\n",
    "string = \"tutorialspoint\"\n",
    "## initializing a list to append all the duplicate characters\n",
    "duplicates = []\n",
    "for char in string:\n",
    "    ## checking whether the character have a duplicate or not\n",
    "    ## str.count(char) returns the frequency of a char in the char\n",
    "    if string.count(char) > 1:\n",
    "    ## appending to the list if it's already not present\n",
    "     if char not in duplicates:\n",
    "      duplicates.append(char)\n",
    "print(*duplicates)"
   ]
  },
  {
   "cell_type": "markdown",
   "metadata": {},
   "source": [
    "# 8 Python program to replace all occurrences of a substring in a string"
   ]
  },
  {
   "cell_type": "code",
   "execution_count": 10,
   "metadata": {},
   "outputs": [
    {
     "name": "stdout",
     "output_type": "stream",
     "text": [
      "The brown-eyed man drives abrown car.\n",
      "The blue-eyed man drives ablue car.\n"
     ]
    }
   ],
   "source": [
    "string_a= \"The brown-eyed man drives abrown car.\"\n",
    "string_b= string_a.replace(\"brown\", \"blue\")\n",
    "\n",
    "print(string_a)\n",
    "print(string_b)"
   ]
  },
  {
   "cell_type": "markdown",
   "metadata": {},
   "source": [
    "# 9 Python program to extract unique values dictionary values"
   ]
  },
  {
   "cell_type": "code",
   "execution_count": 11,
   "metadata": {},
   "outputs": [
    {
     "name": "stdout",
     "output_type": "stream",
     "text": [
      "The dictionary is :\n",
      "{'hi': [5, 3, 8, 0], 'there': [22, 51, 63, 77], 'how': [7, 0, 22], 'are': [12, 11, 45], 'you': [56, 31, 89, 90]}\n",
      "The unique values are :\n",
      "[0, 3, 5, 7, 8, 11, 12, 22, 31, 45, 51, 56, 63, 77, 89, 90]\n"
     ]
    }
   ],
   "source": [
    "my_dict = {'hi' : [5, 3, 8, 0],\n",
    "    'there' : [22, 51, 63, 77],\n",
    "     'how' : [7, 0, 22],\n",
    "     'are' : [12, 11, 45],\n",
    "      'you' : [56, 31, 89, 90]}\n",
    "print(\"The dictionary is :\")\n",
    "print(my_dict)\n",
    "\n",
    "my_result = list(sorted( {elem for val in my_dict.values() for elem in val}))\n",
    "\n",
    "print(\"The unique values are :\")\n",
    "print(my_result)"
   ]
  },
  {
   "cell_type": "markdown",
   "metadata": {},
   "source": [
    "# 10 Python program to find the sum of all items in a dictionary"
   ]
  },
  {
   "cell_type": "code",
   "execution_count": 12,
   "metadata": {},
   "outputs": [
    {
     "name": "stdout",
     "output_type": "stream",
     "text": [
      "Dictionary:  {'x': 455, 'y': 223, 'z': 300, 'p': 908}\n",
      "sum: 1886\n"
     ]
    }
   ],
   "source": [
    "# sum of values in dictionary\n",
    "#initialisation\n",
    "dic={ 'x':455, 'y':223, 'z':300, 'p':908 }\n",
    "\n",
    "print(\"Dictionary: \", dic)\n",
    "\n",
    "#using sum() and values()\n",
    "print(\"sum:\",sum(dic.values()))"
   ]
  }
 ],
 "metadata": {
  "kernelspec": {
   "display_name": "Python 3.9.12 ('base')",
   "language": "python",
   "name": "python3"
  },
  "language_info": {
   "codemirror_mode": {
    "name": "ipython",
    "version": 3
   },
   "file_extension": ".py",
   "mimetype": "text/x-python",
   "name": "python",
   "nbconvert_exporter": "python",
   "pygments_lexer": "ipython3",
   "version": "3.9.12"
  },
  "orig_nbformat": 4,
  "vscode": {
   "interpreter": {
    "hash": "610a6f344c2137faf927ea819c63f6cee33a2c04455044b28099f39fe9722347"
   }
  }
 },
 "nbformat": 4,
 "nbformat_minor": 2
}
