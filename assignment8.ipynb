{
 "cells": [
  {
   "cell_type": "markdown",
   "metadata": {},
   "source": [
    "# 1 python-least frequent character in string"
   ]
  },
  {
   "cell_type": "code",
   "execution_count": 1,
   "metadata": {},
   "outputs": [
    {
     "name": "stdout",
     "output_type": "stream",
     "text": [
      "hgfjiufguij\n",
      "Least frequent character: h\n"
     ]
    }
   ],
   "source": [
    "string= \"hgfjiufguij\"\n",
    "print(string)\n",
    "char_freq={}\n",
    "for i in string:\n",
    "    if i in char_freq:\n",
    "        char_freq[i]=char_freq[i]+1\n",
    "    else:\n",
    "        char_freq[i] = 1\n",
    "result= min(char_freq, key =char_freq.get)\n",
    "print(\"Least frequent character:\",result)"
   ]
  },
  {
   "cell_type": "markdown",
   "metadata": {},
   "source": [
    "# 2 python maimum frequency character in string"
   ]
  },
  {
   "cell_type": "code",
   "execution_count": 2,
   "metadata": {},
   "outputs": [
    {
     "name": "stdout",
     "output_type": "stream",
     "text": [
      "mississippis\n",
      "Most frequent character: s\n"
     ]
    }
   ],
   "source": [
    "string=\"mississippis\"\n",
    "print(string)\n",
    "\n",
    "char_freq={}\n",
    "\n",
    "for i in string:\n",
    "    if i in char_freq:\n",
    "        char_freq[i]=char_freq[i]+1\n",
    "    else:\n",
    "        char_freq[i] = 1\n",
    "result=max(char_freq, key = char_freq.get)\n",
    "\n",
    "print(\"Most frequent character:\",result)"
   ]
  },
  {
   "cell_type": "markdown",
   "metadata": {},
   "source": [
    "# 3 Python program to check if a string contains any special character"
   ]
  },
  {
   "cell_type": "code",
   "execution_count": 4,
   "metadata": {},
   "outputs": [
    {
     "name": "stdout",
     "output_type": "stream",
     "text": [
      "The string is:\n",
      "PythonInterpreter\n",
      "string contains special characters.\n"
     ]
    }
   ],
   "source": [
    "import re\n",
    "\n",
    "def check_string(mystring):\n",
    "    \n",
    "    regex = re.compile('[@_!#$%^&*()<>?/\\|}{~:]')\n",
    "    if(regex.search(my_string) == None):\n",
    "        print(\"string contains special characters.\")\n",
    "    else:\n",
    "        print(\"string does not contain any special characters\")\n",
    "my_string= \"PythonInterpreter\"\n",
    "print(\"The string is:\")\n",
    "print(my_string)\n",
    "check_string(my_string)\n",
    "        \n",
    "    "
   ]
  },
  {
   "cell_type": "markdown",
   "metadata": {},
   "source": [
    "# 4 Python program to generarate random strings until a given string is generated"
   ]
  },
  {
   "cell_type": "code",
   "execution_count": 6,
   "metadata": {},
   "outputs": [
    {
     "name": "stdout",
     "output_type": "stream",
     "text": [
      "74Gg\n",
      "Target matched after 1 iterations\n"
     ]
    }
   ],
   "source": [
    "# gerate random strings\n",
    "import string\n",
    "import random\n",
    "import time\n",
    "\n",
    "#all possible characters including lowercase,uppercase and punctuations\n",
    "possiblechar = string.ascii_lowercase + string.digits + string.ascii_uppercase + ' ., !?;:'\n",
    "\n",
    "#string to be generated\n",
    "t=\"test\"\n",
    "\n",
    "attemptThis = ''.join(random.choice(possiblechar) for i in range(len(t)))\n",
    "attemptNext = ''\n",
    "\n",
    "done=False\n",
    "iteration =0\n",
    "\n",
    "# Iterate while done is false\n",
    "while done == False:\n",
    "    print(attemptThis)\n",
    "    \n",
    "    attemptNext =''\n",
    "    done = True\n",
    "\n",
    "# if matches with string\n",
    "# change index\n",
    "for i in range(len(t)):\n",
    "    if attemptThis[i] != t[i]:\n",
    "        done= False\n",
    "        attemptNext += random.choice(possiblechar)\n",
    "    else:\n",
    "        attemptNext += t[i]\n",
    "        \n",
    "# increase iteration\n",
    "iteration = iteration + 1\n",
    "attemptThis = attemptNext\n",
    "time.sleep(0.1)\n",
    "\n",
    "print(\"Target matched after\",iteration,\"iterations\")"
   ]
  },
  {
   "cell_type": "markdown",
   "metadata": {},
   "source": [
    "# 5 Python program to find words which are greater than given length k"
   ]
  },
  {
   "cell_type": "code",
   "execution_count": 8,
   "metadata": {},
   "outputs": [
    {
     "name": "stdout",
     "output_type": "stream",
     "text": [
      "python\n",
      "good\n"
     ]
    }
   ],
   "source": [
    "def word_k(k, s):\n",
    "    # split the string where space comes\n",
    "    word = s.split(\" \")\n",
    "    # iterate the loop for every word\n",
    "    for x in word:\n",
    "        # if length of current word\n",
    "        if len(x)>k:\n",
    "            #greater than k then\n",
    "            print(x)\n",
    "k=3\n",
    "s=\"python is good\"\n",
    "word_k(k, s)"
   ]
  },
  {
   "cell_type": "markdown",
   "metadata": {},
   "source": [
    "# 6 Python program to remove ith character from a string"
   ]
  },
  {
   "cell_type": "code",
   "execution_count": 9,
   "metadata": {},
   "outputs": [
    {
     "name": "stdout",
     "output_type": "stream",
     "text": [
      "Wlcome\n"
     ]
    }
   ],
   "source": [
    "def remove_char(s, i):\n",
    "    \n",
    "    for j in range(len(s)):\n",
    "        if j==i:\n",
    "            s=s.replace(s[i],\"\",1)\n",
    "    return s\n",
    "\n",
    "string = \"Welcome\"\n",
    "# Remove i-th index element\n",
    "i=2\n",
    "print(remove_char(string,i-1))"
   ]
  },
  {
   "cell_type": "markdown",
   "metadata": {},
   "source": [
    "# 7 Python program to split and join a string"
   ]
  },
  {
   "cell_type": "code",
   "execution_count": 10,
   "metadata": {},
   "outputs": [
    {
     "name": "stdout",
     "output_type": "stream",
     "text": [
      "After splitting: ['Welcome', 'to', 'Ineuron']\n",
      "After joinning: Welcome_to_Ineuron\n"
     ]
    }
   ],
   "source": [
    "def split_string(string):\n",
    "    # splitting based on space delimeter\n",
    "    list_string = string.split(' ')\n",
    "    return list_string\n",
    "\n",
    "def join_string(list_string):\n",
    "    # joining based on '_' delimeter\n",
    "    string = '_'.join(list_string)\n",
    "    return string\n",
    "\n",
    "string = 'Welcome to Ineuron'\n",
    "# splitting a string\n",
    "list_string = split_string(string)\n",
    "print(\"After splitting:\",list_string)\n",
    "\n",
    "# join list of strings into one\n",
    "res_string = join_string(list_string)\n",
    "print(\"After joinning:\",res_string)"
   ]
  },
  {
   "cell_type": "markdown",
   "metadata": {},
   "source": [
    "# 8 Python program to check if a given string is binary string or not"
   ]
  },
  {
   "cell_type": "code",
   "execution_count": 11,
   "metadata": {},
   "outputs": [
    {
     "name": "stdout",
     "output_type": "stream",
     "text": [
      "Binary string\n",
      "Non Binary string\n"
     ]
    }
   ],
   "source": [
    "def check(string):\n",
    "    b = set(string)\n",
    "    s = {'0', '1'}\n",
    "    if s == b or b == {0} or b == {'1'}:\n",
    "       print(\"Binary string\")\n",
    "    else:\n",
    "        print(\"Non Binary string\")\n",
    "s1= \"00110101\"\n",
    "# function calling\n",
    "check(s1)\n",
    "s2= \"1010100200111\"\n",
    "check(s2)"
   ]
  },
  {
   "cell_type": "markdown",
   "metadata": {},
   "source": [
    "# 9 Python program to find uncommon words from two strings"
   ]
  },
  {
   "cell_type": "code",
   "execution_count": 12,
   "metadata": {},
   "outputs": [
    {
     "name": "stdout",
     "output_type": "stream",
     "text": [
      "['Welcome', 'to']\n"
     ]
    }
   ],
   "source": [
    "def uncommon_words(s1, s2):\n",
    "    count = {}\n",
    "    for word in s1.split():\n",
    "        count[word] = count.get(word, 0) + 1\n",
    "        \n",
    "    # words of string s2\n",
    "    for word in s2.split():\n",
    "        count[word] = count.get(word, 0) + 1\n",
    "    # return required list of words\n",
    "    return [word for word in count if count[word] == 1]\n",
    "s1=\"Ineuron\"\n",
    "s2=\"Welcome to Ineuron\"\n",
    "\n",
    "#print required answer\n",
    "print(uncommon_words(s1, s2))"
   ]
  },
  {
   "cell_type": "markdown",
   "metadata": {},
   "source": [
    "# 10 Pythonprogram to replace duplicate occurrence in string"
   ]
  },
  {
   "cell_type": "code",
   "execution_count": 14,
   "metadata": {},
   "outputs": [
    {
     "name": "stdout",
     "output_type": "stream",
     "text": [
      "The original string is:RAm is a boy. Ram is good in Math , Math is his favourite subject\n",
      "The string after replacing :RAmisaboy.RamisgoodinMath,thatishisfavouritesubject\n"
     ]
    }
   ],
   "source": [
    "test_string = 'RAm is a boy. Ram is good in Math , Math is his favourite subject'\n",
    "\n",
    "print(\"The original string is:\" + str(test_string))\n",
    "replace_dict = {'Ram' : 'He', 'Math' : 'that'}\n",
    "\n",
    "test_list = test_string.split(' ')\n",
    "r = set()\n",
    "for i, el in enumerate(test_list):\n",
    "    if el in replace_dict:\n",
    "        if el in r:\n",
    "            test_list[i] = replace_dict[el]\n",
    "        else:\n",
    "            r.add(el)\n",
    "r = ''.join(test_list)\n",
    "\n",
    "# printing result\n",
    "print(\"The string after replacing :\" + str(r))"
   ]
  }
 ],
 "metadata": {
  "kernelspec": {
   "display_name": "Python 3.10.5 64-bit",
   "language": "python",
   "name": "python3"
  },
  "language_info": {
   "codemirror_mode": {
    "name": "ipython",
    "version": 3
   },
   "file_extension": ".py",
   "mimetype": "text/x-python",
   "name": "python",
   "nbconvert_exporter": "python",
   "pygments_lexer": "ipython3",
   "version": "3.10.5"
  },
  "orig_nbformat": 4,
  "vscode": {
   "interpreter": {
    "hash": "beedbe2faf2f7048d727558d0bc3221e7eba2a0b921cac4d4771b2feb8f74b30"
   }
  }
 },
 "nbformat": 4,
 "nbformat_minor": 2
}
